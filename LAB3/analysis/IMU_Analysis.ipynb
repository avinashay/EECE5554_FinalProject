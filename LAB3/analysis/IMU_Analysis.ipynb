{
  "nbformat": 4,
  "nbformat_minor": 0,
  "metadata": {
    "colab": {
      "name": "IMU_Analysis",
      "provenance": []
    },
    "kernelspec": {
      "name": "python3",
      "display_name": "Python 3"
    },
    "language_info": {
      "name": "python"
    }
  },
  "cells": [
    {
      "cell_type": "code",
      "execution_count": 1,
      "metadata": {
        "colab": {
          "base_uri": "https://localhost:8080/",
          "height": 1000
        },
        "id": "xHyuZh0ApG5Z",
        "outputId": "7b35c498-763e-4512-bdba-a79e4ee06732"
      },
      "outputs": [
        {
          "output_type": "stream",
          "name": "stdout",
          "text": [
            "Collecting bagpy\n",
            "  Downloading bagpy-0.4.8-py2.py3-none-any.whl (14 kB)\n",
            "Collecting rospkg\n",
            "  Downloading rospkg-1.4.0-py3-none-any.whl (36 kB)\n",
            "Collecting sphinx-bootstrap-theme\n",
            "  Downloading sphinx_bootstrap_theme-0.8.1-py2.py3-none-any.whl (1.2 MB)\n",
            "\u001b[K     |████████████████████████████████| 1.2 MB 37.9 MB/s \n",
            "\u001b[?25hCollecting bitstring>=3.1.6\n",
            "  Downloading bitstring-3.1.9-py3-none-any.whl (38 kB)\n",
            "Requirement already satisfied: seaborn>=0.9.0 in /usr/local/lib/python3.7/dist-packages (from bagpy) (0.11.2)\n",
            "Collecting sphinx-autodoc-typehints==1.4.0\n",
            "  Downloading sphinx_autodoc_typehints-1.4.0-py3-none-any.whl (6.0 kB)\n",
            "Collecting rinohtype\n",
            "  Downloading rinohtype-0.5.3-py3-none-any.whl (603 kB)\n",
            "\u001b[K     |████████████████████████████████| 603 kB 54.7 MB/s \n",
            "\u001b[?25hCollecting mkdocs\n",
            "  Downloading mkdocs-1.2.3-py3-none-any.whl (6.4 MB)\n",
            "\u001b[K     |████████████████████████████████| 6.4 MB 58.3 MB/s \n",
            "\u001b[?25hCollecting recommonmark\n",
            "  Downloading recommonmark-0.7.1-py2.py3-none-any.whl (10 kB)\n",
            "Collecting py3rosmsgs\n",
            "  Downloading py3rosmsgs-1.18.1-py2.py3-none-any.whl (1.1 MB)\n",
            "\u001b[K     |████████████████████████████████| 1.1 MB 54.7 MB/s \n",
            "\u001b[?25hRequirement already satisfied: pathlib in /usr/local/lib/python3.7/dist-packages (from bagpy) (1.0.1)\n",
            "Collecting ytsphinx\n",
            "  Downloading ytsphinx-1.2.1.dev20200430-py2.py3-none-any.whl (3.7 kB)\n",
            "Collecting pymdown-extensions\n",
            "  Downloading pymdown_extensions-9.2-py3-none-any.whl (216 kB)\n",
            "\u001b[K     |████████████████████████████████| 216 kB 59.3 MB/s \n",
            "\u001b[?25hCollecting pycryptodomex\n",
            "  Downloading pycryptodomex-3.14.1-cp35-abi3-manylinux2010_x86_64.whl (2.0 MB)\n",
            "\u001b[K     |████████████████████████████████| 2.0 MB 52.2 MB/s \n",
            "\u001b[?25hCollecting pyserial>=3.4\n",
            "  Downloading pyserial-3.5-py2.py3-none-any.whl (90 kB)\n",
            "\u001b[K     |████████████████████████████████| 90 kB 8.1 MB/s \n",
            "\u001b[?25hCollecting m2r2\n",
            "  Downloading m2r2-0.3.2-py3-none-any.whl (11 kB)\n",
            "Requirement already satisfied: numpy in /usr/local/lib/python3.7/dist-packages (from bagpy) (1.21.5)\n",
            "Collecting Sphinx==3.2.1\n",
            "  Downloading Sphinx-3.2.1-py3-none-any.whl (2.9 MB)\n",
            "\u001b[K     |████████████████████████████████| 2.9 MB 47.7 MB/s \n",
            "\u001b[?25hCollecting sphinx-markdown-parser\n",
            "  Downloading sphinx_markdown_parser-0.2.4-py2.py3-none-any.whl (19 kB)\n",
            "Requirement already satisfied: ipython in /usr/local/lib/python3.7/dist-packages (from bagpy) (5.5.0)\n",
            "Collecting sphinx-rtd-theme\n",
            "  Downloading sphinx_rtd_theme-1.0.0-py2.py3-none-any.whl (2.8 MB)\n",
            "\u001b[K     |████████████████████████████████| 2.8 MB 50.8 MB/s \n",
            "\u001b[?25hRequirement already satisfied: pyyaml in /usr/local/lib/python3.7/dist-packages (from bagpy) (3.13)\n",
            "Collecting sphinxcontrib-devhelp\n",
            "  Downloading sphinxcontrib_devhelp-1.0.2-py2.py3-none-any.whl (84 kB)\n",
            "\u001b[K     |████████████████████████████████| 84 kB 3.0 MB/s \n",
            "\u001b[?25hCollecting sphinxcontrib-applehelp\n",
            "  Downloading sphinxcontrib_applehelp-1.0.2-py2.py3-none-any.whl (121 kB)\n",
            "\u001b[K     |████████████████████████████████| 121 kB 49.5 MB/s \n",
            "\u001b[?25hCollecting sphinxcontrib-qthelp\n",
            "  Downloading sphinxcontrib_qthelp-1.0.3-py2.py3-none-any.whl (90 kB)\n",
            "\u001b[K     |████████████████████████████████| 90 kB 7.2 MB/s \n",
            "\u001b[?25hCollecting sphinxcontrib-htmlhelp\n",
            "  Downloading sphinxcontrib_htmlhelp-2.0.0-py2.py3-none-any.whl (100 kB)\n",
            "\u001b[K     |████████████████████████████████| 100 kB 7.7 MB/s \n",
            "\u001b[?25hRequirement already satisfied: snowballstemmer>=1.1 in /usr/local/lib/python3.7/dist-packages (from Sphinx==3.2.1->bagpy) (2.2.0)\n",
            "Collecting sphinxcontrib-jsmath\n",
            "  Downloading sphinxcontrib_jsmath-1.0.1-py2.py3-none-any.whl (5.1 kB)\n",
            "Requirement already satisfied: alabaster<0.8,>=0.7 in /usr/local/lib/python3.7/dist-packages (from Sphinx==3.2.1->bagpy) (0.7.12)\n",
            "Requirement already satisfied: requests>=2.5.0 in /usr/local/lib/python3.7/dist-packages (from Sphinx==3.2.1->bagpy) (2.23.0)\n",
            "Requirement already satisfied: docutils>=0.12 in /usr/local/lib/python3.7/dist-packages (from Sphinx==3.2.1->bagpy) (0.17.1)\n",
            "Requirement already satisfied: sphinxcontrib-serializinghtml in /usr/local/lib/python3.7/dist-packages (from Sphinx==3.2.1->bagpy) (1.1.5)\n",
            "Requirement already satisfied: babel>=1.3 in /usr/local/lib/python3.7/dist-packages (from Sphinx==3.2.1->bagpy) (2.9.1)\n",
            "Requirement already satisfied: packaging in /usr/local/lib/python3.7/dist-packages (from Sphinx==3.2.1->bagpy) (21.3)\n",
            "Requirement already satisfied: imagesize in /usr/local/lib/python3.7/dist-packages (from Sphinx==3.2.1->bagpy) (1.3.0)\n",
            "Requirement already satisfied: setuptools in /usr/local/lib/python3.7/dist-packages (from Sphinx==3.2.1->bagpy) (57.4.0)\n",
            "Requirement already satisfied: Jinja2>=2.3 in /usr/local/lib/python3.7/dist-packages (from Sphinx==3.2.1->bagpy) (2.11.3)\n",
            "Requirement already satisfied: Pygments>=2.0 in /usr/local/lib/python3.7/dist-packages (from Sphinx==3.2.1->bagpy) (2.6.1)\n",
            "Requirement already satisfied: pytz>=2015.7 in /usr/local/lib/python3.7/dist-packages (from babel>=1.3->Sphinx==3.2.1->bagpy) (2018.9)\n",
            "Requirement already satisfied: MarkupSafe>=0.23 in /usr/local/lib/python3.7/dist-packages (from Jinja2>=2.3->Sphinx==3.2.1->bagpy) (2.0.1)\n",
            "Requirement already satisfied: certifi>=2017.4.17 in /usr/local/lib/python3.7/dist-packages (from requests>=2.5.0->Sphinx==3.2.1->bagpy) (2021.10.8)\n",
            "Requirement already satisfied: chardet<4,>=3.0.2 in /usr/local/lib/python3.7/dist-packages (from requests>=2.5.0->Sphinx==3.2.1->bagpy) (3.0.4)\n",
            "Requirement already satisfied: idna<3,>=2.5 in /usr/local/lib/python3.7/dist-packages (from requests>=2.5.0->Sphinx==3.2.1->bagpy) (2.10)\n",
            "Requirement already satisfied: urllib3!=1.25.0,!=1.25.1,<1.26,>=1.21.1 in /usr/local/lib/python3.7/dist-packages (from requests>=2.5.0->Sphinx==3.2.1->bagpy) (1.24.3)\n",
            "Requirement already satisfied: pandas>=0.23 in /usr/local/lib/python3.7/dist-packages (from seaborn>=0.9.0->bagpy) (1.3.5)\n",
            "Requirement already satisfied: scipy>=1.0 in /usr/local/lib/python3.7/dist-packages (from seaborn>=0.9.0->bagpy) (1.4.1)\n",
            "Requirement already satisfied: matplotlib>=2.2 in /usr/local/lib/python3.7/dist-packages (from seaborn>=0.9.0->bagpy) (3.2.2)\n",
            "Requirement already satisfied: cycler>=0.10 in /usr/local/lib/python3.7/dist-packages (from matplotlib>=2.2->seaborn>=0.9.0->bagpy) (0.11.0)\n",
            "Requirement already satisfied: pyparsing!=2.0.4,!=2.1.2,!=2.1.6,>=2.0.1 in /usr/local/lib/python3.7/dist-packages (from matplotlib>=2.2->seaborn>=0.9.0->bagpy) (3.0.7)\n",
            "Requirement already satisfied: python-dateutil>=2.1 in /usr/local/lib/python3.7/dist-packages (from matplotlib>=2.2->seaborn>=0.9.0->bagpy) (2.8.2)\n",
            "Requirement already satisfied: kiwisolver>=1.0.1 in /usr/local/lib/python3.7/dist-packages (from matplotlib>=2.2->seaborn>=0.9.0->bagpy) (1.3.2)\n",
            "Requirement already satisfied: six>=1.5 in /usr/local/lib/python3.7/dist-packages (from python-dateutil>=2.1->matplotlib>=2.2->seaborn>=0.9.0->bagpy) (1.15.0)\n",
            "Requirement already satisfied: pickleshare in /usr/local/lib/python3.7/dist-packages (from ipython->bagpy) (0.7.5)\n",
            "Requirement already satisfied: traitlets>=4.2 in /usr/local/lib/python3.7/dist-packages (from ipython->bagpy) (5.1.1)\n",
            "Requirement already satisfied: prompt-toolkit<2.0.0,>=1.0.4 in /usr/local/lib/python3.7/dist-packages (from ipython->bagpy) (1.0.18)\n",
            "Requirement already satisfied: decorator in /usr/local/lib/python3.7/dist-packages (from ipython->bagpy) (4.4.2)\n",
            "Requirement already satisfied: simplegeneric>0.8 in /usr/local/lib/python3.7/dist-packages (from ipython->bagpy) (0.8.1)\n",
            "Requirement already satisfied: pexpect in /usr/local/lib/python3.7/dist-packages (from ipython->bagpy) (4.8.0)\n",
            "Requirement already satisfied: wcwidth in /usr/local/lib/python3.7/dist-packages (from prompt-toolkit<2.0.0,>=1.0.4->ipython->bagpy) (0.2.5)\n",
            "Requirement already satisfied: mistune==0.8.4 in /usr/local/lib/python3.7/dist-packages (from m2r2->bagpy) (0.8.4)\n",
            "Collecting mergedeep>=1.3.4\n",
            "  Downloading mergedeep-1.3.4-py3-none-any.whl (6.4 kB)\n",
            "Collecting pyyaml-env-tag>=0.1\n",
            "  Downloading pyyaml_env_tag-0.1-py3-none-any.whl (3.9 kB)\n",
            "Collecting ghp-import>=1.0\n",
            "  Downloading ghp_import-2.0.2-py3-none-any.whl (11 kB)\n",
            "Requirement already satisfied: click>=3.3 in /usr/local/lib/python3.7/dist-packages (from mkdocs->bagpy) (7.1.2)\n",
            "Requirement already satisfied: Markdown>=3.2.1 in /usr/local/lib/python3.7/dist-packages (from mkdocs->bagpy) (3.3.6)\n",
            "Requirement already satisfied: importlib-metadata>=3.10 in /usr/local/lib/python3.7/dist-packages (from mkdocs->bagpy) (4.11.1)\n",
            "Collecting watchdog>=2.0\n",
            "  Downloading watchdog-2.1.6-py3-none-manylinux2014_x86_64.whl (76 kB)\n",
            "\u001b[K     |████████████████████████████████| 76 kB 4.2 MB/s \n",
            "\u001b[?25hRequirement already satisfied: typing-extensions>=3.6.4 in /usr/local/lib/python3.7/dist-packages (from importlib-metadata>=3.10->mkdocs->bagpy) (3.10.0.2)\n",
            "Requirement already satisfied: zipp>=0.5 in /usr/local/lib/python3.7/dist-packages (from importlib-metadata>=3.10->mkdocs->bagpy) (3.7.0)\n",
            "Requirement already satisfied: ptyprocess>=0.5 in /usr/local/lib/python3.7/dist-packages (from pexpect->ipython->bagpy) (0.7.0)\n",
            "Collecting gnupg\n",
            "  Downloading gnupg-2.3.1.tar.gz (100 kB)\n",
            "\u001b[K     |████████████████████████████████| 100 kB 9.6 MB/s \n",
            "\u001b[?25hRequirement already satisfied: psutil>=1.2.1 in /usr/local/lib/python3.7/dist-packages (from gnupg->py3rosmsgs->bagpy) (5.4.8)\n",
            "Collecting commonmark>=0.8.1\n",
            "  Downloading commonmark-0.9.1-py2.py3-none-any.whl (51 kB)\n",
            "\u001b[K     |████████████████████████████████| 51 kB 5.4 MB/s \n",
            "\u001b[?25hRequirement already satisfied: appdirs<2.0.0,>=1.4.3 in /usr/local/lib/python3.7/dist-packages (from rinohtype->bagpy) (1.4.4)\n",
            "Collecting rinoh-typeface-texgyrepagella<0.2.0,>=0.1.1\n",
            "  Downloading rinoh_typeface_texgyrepagella-0.1.1-py3-none-any.whl (321 kB)\n",
            "\u001b[K     |████████████████████████████████| 321 kB 52.3 MB/s \n",
            "\u001b[?25hCollecting rinoh-typeface-dejavuserif<0.2.0,>=0.1.3\n",
            "  Downloading rinoh_typeface_dejavuserif-0.1.3-py3-none-any.whl (1.7 MB)\n",
            "\u001b[K     |████████████████████████████████| 1.7 MB 42.5 MB/s \n",
            "\u001b[?25hCollecting rinoh-typeface-texgyreheros<0.2.0,>=0.1.1\n",
            "  Downloading rinoh_typeface_texgyreheros-0.1.1-py3-none-any.whl (523 kB)\n",
            "\u001b[K     |████████████████████████████████| 523 kB 73.6 MB/s \n",
            "\u001b[?25hCollecting rinoh-typeface-texgyrecursor<0.2.0,>=0.1.1\n",
            "  Downloading rinoh_typeface_texgyrecursor-0.1.1-py3-none-any.whl (242 kB)\n",
            "\u001b[K     |████████████████████████████████| 242 kB 73.8 MB/s \n",
            "\u001b[?25hCollecting catkin-pkg\n",
            "  Downloading catkin_pkg-0.4.24-py3-none-any.whl (75 kB)\n",
            "\u001b[K     |████████████████████████████████| 75 kB 3.4 MB/s \n",
            "\u001b[?25hCollecting yapf>=0.28.0\n",
            "  Downloading yapf-0.32.0-py2.py3-none-any.whl (190 kB)\n",
            "\u001b[K     |████████████████████████████████| 190 kB 53.6 MB/s \n",
            "\u001b[?25hCollecting pydash>=4.7.5\n",
            "  Downloading pydash-5.1.0-py3-none-any.whl (84 kB)\n",
            "\u001b[K     |████████████████████████████████| 84 kB 3.7 MB/s \n",
            "\u001b[?25hCollecting unify>=0.5\n",
            "  Downloading unify-0.5.tar.gz (4.4 kB)\n",
            "Collecting pyyaml\n",
            "  Downloading PyYAML-6.0-cp37-cp37m-manylinux_2_5_x86_64.manylinux1_x86_64.manylinux_2_12_x86_64.manylinux2010_x86_64.whl (596 kB)\n",
            "\u001b[K     |████████████████████████████████| 596 kB 45.9 MB/s \n",
            "\u001b[?25hCollecting untokenize\n",
            "  Downloading untokenize-0.1.1.tar.gz (3.1 kB)\n",
            "Building wheels for collected packages: gnupg, unify, untokenize\n",
            "  Building wheel for gnupg (setup.py) ... \u001b[?25l\u001b[?25hdone\n",
            "  Created wheel for gnupg: filename=gnupg-2.3.1-py3-none-any.whl size=94622 sha256=b434bbce89d96bd17037acf3ac937f2e1fea0b310cecafb2e7f0ff330f61e25f\n",
            "  Stored in directory: /root/.cache/pip/wheels/e1/48/cd/8ead16471774166e9a4d2eec12c201c91de415a584047a8389\n",
            "  Building wheel for unify (setup.py) ... \u001b[?25l\u001b[?25hdone\n",
            "  Created wheel for unify: filename=unify-0.5-py3-none-any.whl size=5242 sha256=32fc15a986f0d484dfd7af00e44a08f627fcfeb21a87d98a010c03486916b99e\n",
            "  Stored in directory: /root/.cache/pip/wheels/72/7c/78/8257d22f369f9b86b080b478a768e678efda6cfadd86b11212\n",
            "  Building wheel for untokenize (setup.py) ... \u001b[?25l\u001b[?25hdone\n",
            "  Created wheel for untokenize: filename=untokenize-0.1.1-py3-none-any.whl size=2888 sha256=b3cb242e25ecffce340aa88db020f77f2d66f8b32e6b104ef4ab0684c6273ef2\n",
            "  Stored in directory: /root/.cache/pip/wheels/5e/d4/22/3b662355e9a2faa5fe462c17b6fae2e9757066c36cd72c4497\n",
            "Successfully built gnupg unify untokenize\n",
            "Installing collected packages: sphinxcontrib-qthelp, sphinxcontrib-jsmath, sphinxcontrib-htmlhelp, sphinxcontrib-devhelp, sphinxcontrib-applehelp, untokenize, Sphinx, pyyaml, commonmark, yapf, watchdog, unify, rinoh-typeface-texgyrepagella, rinoh-typeface-texgyreheros, rinoh-typeface-texgyrecursor, rinoh-typeface-dejavuserif, recommonmark, pyyaml-env-tag, pyserial, pydash, mergedeep, gnupg, ghp-import, catkin-pkg, ytsphinx, sphinx-rtd-theme, sphinx-markdown-parser, sphinx-bootstrap-theme, sphinx-autodoc-typehints, rospkg, rinohtype, pymdown-extensions, pycryptodomex, py3rosmsgs, mkdocs, m2r2, bitstring, bagpy\n",
            "  Attempting uninstall: Sphinx\n",
            "    Found existing installation: Sphinx 1.8.6\n",
            "    Uninstalling Sphinx-1.8.6:\n",
            "      Successfully uninstalled Sphinx-1.8.6\n",
            "  Attempting uninstall: pyyaml\n",
            "    Found existing installation: PyYAML 3.13\n",
            "    Uninstalling PyYAML-3.13:\n",
            "      Successfully uninstalled PyYAML-3.13\n",
            "\u001b[31mERROR: pip's dependency resolver does not currently take into account all the packages that are installed. This behaviour is the source of the following dependency conflicts.\n",
            "datascience 0.10.6 requires folium==0.2.1, but you have folium 0.8.3 which is incompatible.\u001b[0m\n",
            "Successfully installed Sphinx-3.2.1 bagpy-0.4.8 bitstring-3.1.9 catkin-pkg-0.4.24 commonmark-0.9.1 ghp-import-2.0.2 gnupg-2.3.1 m2r2-0.3.2 mergedeep-1.3.4 mkdocs-1.2.3 py3rosmsgs-1.18.1 pycryptodomex-3.14.1 pydash-5.1.0 pymdown-extensions-9.2 pyserial-3.5 pyyaml-6.0 pyyaml-env-tag-0.1 recommonmark-0.7.1 rinoh-typeface-dejavuserif-0.1.3 rinoh-typeface-texgyrecursor-0.1.1 rinoh-typeface-texgyreheros-0.1.1 rinoh-typeface-texgyrepagella-0.1.1 rinohtype-0.5.3 rospkg-1.4.0 sphinx-autodoc-typehints-1.4.0 sphinx-bootstrap-theme-0.8.1 sphinx-markdown-parser-0.2.4 sphinx-rtd-theme-1.0.0 sphinxcontrib-applehelp-1.0.2 sphinxcontrib-devhelp-1.0.2 sphinxcontrib-htmlhelp-2.0.0 sphinxcontrib-jsmath-1.0.1 sphinxcontrib-qthelp-1.0.3 unify-0.5 untokenize-0.1.1 watchdog-2.1.6 yapf-0.32.0 ytsphinx-1.2.1.dev20200430\n"
          ]
        },
        {
          "output_type": "display_data",
          "data": {
            "application/vnd.colab-display-data+json": {
              "pip_warning": {
                "packages": [
                  "sphinxcontrib"
                ]
              }
            }
          },
          "metadata": {}
        }
      ],
      "source": [
        "!pip install -U bagpy"
      ]
    },
    {
      "cell_type": "code",
      "source": [
        "import numpy as np\n",
        "import pandas as pd\n",
        "import matplotlib.pyplot as plt\n",
        "import math\n",
        "import numpy as np\n",
        "from matplotlib.pyplot import figure\n",
        "from sklearn.linear_model import LinearRegression\n",
        "from sklearn.metrics import mean_squared_error, r2_score\n",
        "from scipy.interpolate import splprep, splev\n",
        "from bagpy import bagreader\n",
        "import seaborn as sea\n",
        "import pandas as pd\n"
      ],
      "metadata": {
        "id": "Klym539apRG4"
      },
      "execution_count": 1,
      "outputs": []
    },
    {
      "cell_type": "code",
      "source": [
        "bag15 = bagreader('/content/drive/MyDrive/IMU/best1.bag')\n",
        "bag5 = bagreader('/content/drive/MyDrive/IMU/imu_data_5hour.bag')"
      ],
      "metadata": {
        "colab": {
          "base_uri": "https://localhost:8080/"
        },
        "id": "owTR8VRKpetg",
        "outputId": "c729e24f-67e1-4ca2-e981-33ec7ea1873d"
      },
      "execution_count": 98,
      "outputs": [
        {
          "output_type": "stream",
          "name": "stdout",
          "text": [
            "[INFO]  Successfully created the data folder /content/drive/MyDrive/IMU/best1.\n",
            "[INFO]  Data folder /content/drive/MyDrive/IMU/imu_data_5hour already exists. Not creating.\n"
          ]
        }
      ]
    },
    {
      "cell_type": "code",
      "source": [
        "imu_msg = bag15.message_by_topic('/imu')\n",
        "mag_msg = bag15.message_by_topic('/magnetometer')\n"
      ],
      "metadata": {
        "id": "m_WODCdXpzM3"
      },
      "execution_count": 183,
      "outputs": []
    },
    {
      "cell_type": "code",
      "source": [
        "df_imu = pd.read_csv(imu_msg)\n",
        "df_mag = pd.read_csv(mag_msg)"
      ],
      "metadata": {
        "id": "30Pmy4f8qDYD"
      },
      "execution_count": 184,
      "outputs": []
    },
    {
      "cell_type": "code",
      "source": [
        "df_mag"
      ],
      "metadata": {
        "colab": {
          "base_uri": "https://localhost:8080/",
          "height": 488
        },
        "id": "dovhn-6Zqp_h",
        "outputId": "a94d7ff4-75f5-46a1-a0d3-60f6f9a620e0"
      },
      "execution_count": 185,
      "outputs": [
        {
          "output_type": "execute_result",
          "data": {
            "text/html": [
              "\n",
              "  <div id=\"df-c4daba3c-2fd2-410e-a456-72e93ba4943d\">\n",
              "    <div class=\"colab-df-container\">\n",
              "      <div>\n",
              "<style scoped>\n",
              "    .dataframe tbody tr th:only-of-type {\n",
              "        vertical-align: middle;\n",
              "    }\n",
              "\n",
              "    .dataframe tbody tr th {\n",
              "        vertical-align: top;\n",
              "    }\n",
              "\n",
              "    .dataframe thead th {\n",
              "        text-align: right;\n",
              "    }\n",
              "</style>\n",
              "<table border=\"1\" class=\"dataframe\">\n",
              "  <thead>\n",
              "    <tr style=\"text-align: right;\">\n",
              "      <th></th>\n",
              "      <th>Time</th>\n",
              "      <th>header.seq</th>\n",
              "      <th>header.stamp.secs</th>\n",
              "      <th>header.stamp.nsecs</th>\n",
              "      <th>header.frame_id</th>\n",
              "      <th>magnetic_field.x</th>\n",
              "      <th>magnetic_field.y</th>\n",
              "      <th>magnetic_field.z</th>\n",
              "      <th>magnetic_field_covariance_0</th>\n",
              "      <th>magnetic_field_covariance_1</th>\n",
              "      <th>magnetic_field_covariance_2</th>\n",
              "      <th>magnetic_field_covariance_3</th>\n",
              "      <th>magnetic_field_covariance_4</th>\n",
              "      <th>magnetic_field_covariance_5</th>\n",
              "      <th>magnetic_field_covariance_6</th>\n",
              "      <th>magnetic_field_covariance_7</th>\n",
              "      <th>magnetic_field_covariance_8</th>\n",
              "    </tr>\n",
              "  </thead>\n",
              "  <tbody>\n",
              "    <tr>\n",
              "      <th>0</th>\n",
              "      <td>1.646181e+09</td>\n",
              "      <td>1</td>\n",
              "      <td>1646180985</td>\n",
              "      <td>427178859</td>\n",
              "      <td>Magnetometer_Data</td>\n",
              "      <td>-0.2532</td>\n",
              "      <td>-0.0257</td>\n",
              "      <td>0.2473</td>\n",
              "      <td>0.0</td>\n",
              "      <td>0.0</td>\n",
              "      <td>0.0</td>\n",
              "      <td>0.0</td>\n",
              "      <td>0.0</td>\n",
              "      <td>0.0</td>\n",
              "      <td>0.0</td>\n",
              "      <td>0.0</td>\n",
              "      <td>0.0</td>\n",
              "    </tr>\n",
              "    <tr>\n",
              "      <th>1</th>\n",
              "      <td>1.646181e+09</td>\n",
              "      <td>2</td>\n",
              "      <td>1646180985</td>\n",
              "      <td>452230691</td>\n",
              "      <td>Magnetometer_Data</td>\n",
              "      <td>-0.2521</td>\n",
              "      <td>-0.0257</td>\n",
              "      <td>0.2461</td>\n",
              "      <td>0.0</td>\n",
              "      <td>0.0</td>\n",
              "      <td>0.0</td>\n",
              "      <td>0.0</td>\n",
              "      <td>0.0</td>\n",
              "      <td>0.0</td>\n",
              "      <td>0.0</td>\n",
              "      <td>0.0</td>\n",
              "      <td>0.0</td>\n",
              "    </tr>\n",
              "    <tr>\n",
              "      <th>2</th>\n",
              "      <td>1.646181e+09</td>\n",
              "      <td>3</td>\n",
              "      <td>1646180985</td>\n",
              "      <td>477116107</td>\n",
              "      <td>Magnetometer_Data</td>\n",
              "      <td>-0.2527</td>\n",
              "      <td>-0.0251</td>\n",
              "      <td>0.2454</td>\n",
              "      <td>0.0</td>\n",
              "      <td>0.0</td>\n",
              "      <td>0.0</td>\n",
              "      <td>0.0</td>\n",
              "      <td>0.0</td>\n",
              "      <td>0.0</td>\n",
              "      <td>0.0</td>\n",
              "      <td>0.0</td>\n",
              "      <td>0.0</td>\n",
              "    </tr>\n",
              "    <tr>\n",
              "      <th>3</th>\n",
              "      <td>1.646181e+09</td>\n",
              "      <td>4</td>\n",
              "      <td>1646180985</td>\n",
              "      <td>502036809</td>\n",
              "      <td>Magnetometer_Data</td>\n",
              "      <td>-0.2522</td>\n",
              "      <td>-0.0275</td>\n",
              "      <td>0.2409</td>\n",
              "      <td>0.0</td>\n",
              "      <td>0.0</td>\n",
              "      <td>0.0</td>\n",
              "      <td>0.0</td>\n",
              "      <td>0.0</td>\n",
              "      <td>0.0</td>\n",
              "      <td>0.0</td>\n",
              "      <td>0.0</td>\n",
              "      <td>0.0</td>\n",
              "    </tr>\n",
              "    <tr>\n",
              "      <th>4</th>\n",
              "      <td>1.646181e+09</td>\n",
              "      <td>5</td>\n",
              "      <td>1646180985</td>\n",
              "      <td>527070760</td>\n",
              "      <td>Magnetometer_Data</td>\n",
              "      <td>-0.2543</td>\n",
              "      <td>-0.0263</td>\n",
              "      <td>0.2466</td>\n",
              "      <td>0.0</td>\n",
              "      <td>0.0</td>\n",
              "      <td>0.0</td>\n",
              "      <td>0.0</td>\n",
              "      <td>0.0</td>\n",
              "      <td>0.0</td>\n",
              "      <td>0.0</td>\n",
              "      <td>0.0</td>\n",
              "      <td>0.0</td>\n",
              "    </tr>\n",
              "    <tr>\n",
              "      <th>...</th>\n",
              "      <td>...</td>\n",
              "      <td>...</td>\n",
              "      <td>...</td>\n",
              "      <td>...</td>\n",
              "      <td>...</td>\n",
              "      <td>...</td>\n",
              "      <td>...</td>\n",
              "      <td>...</td>\n",
              "      <td>...</td>\n",
              "      <td>...</td>\n",
              "      <td>...</td>\n",
              "      <td>...</td>\n",
              "      <td>...</td>\n",
              "      <td>...</td>\n",
              "      <td>...</td>\n",
              "      <td>...</td>\n",
              "      <td>...</td>\n",
              "    </tr>\n",
              "    <tr>\n",
              "      <th>32927</th>\n",
              "      <td>1.646182e+09</td>\n",
              "      <td>32928</td>\n",
              "      <td>1646181808</td>\n",
              "      <td>605349302</td>\n",
              "      <td>Magnetometer_Data</td>\n",
              "      <td>-0.2537</td>\n",
              "      <td>-0.0239</td>\n",
              "      <td>0.2466</td>\n",
              "      <td>0.0</td>\n",
              "      <td>0.0</td>\n",
              "      <td>0.0</td>\n",
              "      <td>0.0</td>\n",
              "      <td>0.0</td>\n",
              "      <td>0.0</td>\n",
              "      <td>0.0</td>\n",
              "      <td>0.0</td>\n",
              "      <td>0.0</td>\n",
              "    </tr>\n",
              "    <tr>\n",
              "      <th>32928</th>\n",
              "      <td>1.646182e+09</td>\n",
              "      <td>32929</td>\n",
              "      <td>1646181808</td>\n",
              "      <td>630365610</td>\n",
              "      <td>Magnetometer_Data</td>\n",
              "      <td>-0.2527</td>\n",
              "      <td>-0.0286</td>\n",
              "      <td>0.2486</td>\n",
              "      <td>0.0</td>\n",
              "      <td>0.0</td>\n",
              "      <td>0.0</td>\n",
              "      <td>0.0</td>\n",
              "      <td>0.0</td>\n",
              "      <td>0.0</td>\n",
              "      <td>0.0</td>\n",
              "      <td>0.0</td>\n",
              "      <td>0.0</td>\n",
              "    </tr>\n",
              "    <tr>\n",
              "      <th>32929</th>\n",
              "      <td>1.646182e+09</td>\n",
              "      <td>32930</td>\n",
              "      <td>1646181808</td>\n",
              "      <td>655364513</td>\n",
              "      <td>Magnetometer_Data</td>\n",
              "      <td>-0.2532</td>\n",
              "      <td>-0.0251</td>\n",
              "      <td>0.2492</td>\n",
              "      <td>0.0</td>\n",
              "      <td>0.0</td>\n",
              "      <td>0.0</td>\n",
              "      <td>0.0</td>\n",
              "      <td>0.0</td>\n",
              "      <td>0.0</td>\n",
              "      <td>0.0</td>\n",
              "      <td>0.0</td>\n",
              "      <td>0.0</td>\n",
              "    </tr>\n",
              "    <tr>\n",
              "      <th>32930</th>\n",
              "      <td>1.646182e+09</td>\n",
              "      <td>32931</td>\n",
              "      <td>1646181808</td>\n",
              "      <td>680334806</td>\n",
              "      <td>Magnetometer_Data</td>\n",
              "      <td>-0.2515</td>\n",
              "      <td>-0.0257</td>\n",
              "      <td>0.2467</td>\n",
              "      <td>0.0</td>\n",
              "      <td>0.0</td>\n",
              "      <td>0.0</td>\n",
              "      <td>0.0</td>\n",
              "      <td>0.0</td>\n",
              "      <td>0.0</td>\n",
              "      <td>0.0</td>\n",
              "      <td>0.0</td>\n",
              "      <td>0.0</td>\n",
              "    </tr>\n",
              "    <tr>\n",
              "      <th>32931</th>\n",
              "      <td>1.646182e+09</td>\n",
              "      <td>32932</td>\n",
              "      <td>1646181808</td>\n",
              "      <td>705366134</td>\n",
              "      <td>Magnetometer_Data</td>\n",
              "      <td>-0.2537</td>\n",
              "      <td>-0.0245</td>\n",
              "      <td>0.2485</td>\n",
              "      <td>0.0</td>\n",
              "      <td>0.0</td>\n",
              "      <td>0.0</td>\n",
              "      <td>0.0</td>\n",
              "      <td>0.0</td>\n",
              "      <td>0.0</td>\n",
              "      <td>0.0</td>\n",
              "      <td>0.0</td>\n",
              "      <td>0.0</td>\n",
              "    </tr>\n",
              "  </tbody>\n",
              "</table>\n",
              "<p>32932 rows × 17 columns</p>\n",
              "</div>\n",
              "      <button class=\"colab-df-convert\" onclick=\"convertToInteractive('df-c4daba3c-2fd2-410e-a456-72e93ba4943d')\"\n",
              "              title=\"Convert this dataframe to an interactive table.\"\n",
              "              style=\"display:none;\">\n",
              "        \n",
              "  <svg xmlns=\"http://www.w3.org/2000/svg\" height=\"24px\"viewBox=\"0 0 24 24\"\n",
              "       width=\"24px\">\n",
              "    <path d=\"M0 0h24v24H0V0z\" fill=\"none\"/>\n",
              "    <path d=\"M18.56 5.44l.94 2.06.94-2.06 2.06-.94-2.06-.94-.94-2.06-.94 2.06-2.06.94zm-11 1L8.5 8.5l.94-2.06 2.06-.94-2.06-.94L8.5 2.5l-.94 2.06-2.06.94zm10 10l.94 2.06.94-2.06 2.06-.94-2.06-.94-.94-2.06-.94 2.06-2.06.94z\"/><path d=\"M17.41 7.96l-1.37-1.37c-.4-.4-.92-.59-1.43-.59-.52 0-1.04.2-1.43.59L10.3 9.45l-7.72 7.72c-.78.78-.78 2.05 0 2.83L4 21.41c.39.39.9.59 1.41.59.51 0 1.02-.2 1.41-.59l7.78-7.78 2.81-2.81c.8-.78.8-2.07 0-2.86zM5.41 20L4 18.59l7.72-7.72 1.47 1.35L5.41 20z\"/>\n",
              "  </svg>\n",
              "      </button>\n",
              "      \n",
              "  <style>\n",
              "    .colab-df-container {\n",
              "      display:flex;\n",
              "      flex-wrap:wrap;\n",
              "      gap: 12px;\n",
              "    }\n",
              "\n",
              "    .colab-df-convert {\n",
              "      background-color: #E8F0FE;\n",
              "      border: none;\n",
              "      border-radius: 50%;\n",
              "      cursor: pointer;\n",
              "      display: none;\n",
              "      fill: #1967D2;\n",
              "      height: 32px;\n",
              "      padding: 0 0 0 0;\n",
              "      width: 32px;\n",
              "    }\n",
              "\n",
              "    .colab-df-convert:hover {\n",
              "      background-color: #E2EBFA;\n",
              "      box-shadow: 0px 1px 2px rgba(60, 64, 67, 0.3), 0px 1px 3px 1px rgba(60, 64, 67, 0.15);\n",
              "      fill: #174EA6;\n",
              "    }\n",
              "\n",
              "    [theme=dark] .colab-df-convert {\n",
              "      background-color: #3B4455;\n",
              "      fill: #D2E3FC;\n",
              "    }\n",
              "\n",
              "    [theme=dark] .colab-df-convert:hover {\n",
              "      background-color: #434B5C;\n",
              "      box-shadow: 0px 1px 3px 1px rgba(0, 0, 0, 0.15);\n",
              "      filter: drop-shadow(0px 1px 2px rgba(0, 0, 0, 0.3));\n",
              "      fill: #FFFFFF;\n",
              "    }\n",
              "  </style>\n",
              "\n",
              "      <script>\n",
              "        const buttonEl =\n",
              "          document.querySelector('#df-c4daba3c-2fd2-410e-a456-72e93ba4943d button.colab-df-convert');\n",
              "        buttonEl.style.display =\n",
              "          google.colab.kernel.accessAllowed ? 'block' : 'none';\n",
              "\n",
              "        async function convertToInteractive(key) {\n",
              "          const element = document.querySelector('#df-c4daba3c-2fd2-410e-a456-72e93ba4943d');\n",
              "          const dataTable =\n",
              "            await google.colab.kernel.invokeFunction('convertToInteractive',\n",
              "                                                     [key], {});\n",
              "          if (!dataTable) return;\n",
              "\n",
              "          const docLinkHtml = 'Like what you see? Visit the ' +\n",
              "            '<a target=\"_blank\" href=https://colab.research.google.com/notebooks/data_table.ipynb>data table notebook</a>'\n",
              "            + ' to learn more about interactive tables.';\n",
              "          element.innerHTML = '';\n",
              "          dataTable['output_type'] = 'display_data';\n",
              "          await google.colab.output.renderOutput(dataTable, element);\n",
              "          const docLink = document.createElement('div');\n",
              "          docLink.innerHTML = docLinkHtml;\n",
              "          element.appendChild(docLink);\n",
              "        }\n",
              "      </script>\n",
              "    </div>\n",
              "  </div>\n",
              "  "
            ],
            "text/plain": [
              "               Time  ...  magnetic_field_covariance_8\n",
              "0      1.646181e+09  ...                          0.0\n",
              "1      1.646181e+09  ...                          0.0\n",
              "2      1.646181e+09  ...                          0.0\n",
              "3      1.646181e+09  ...                          0.0\n",
              "4      1.646181e+09  ...                          0.0\n",
              "...             ...  ...                          ...\n",
              "32927  1.646182e+09  ...                          0.0\n",
              "32928  1.646182e+09  ...                          0.0\n",
              "32929  1.646182e+09  ...                          0.0\n",
              "32930  1.646182e+09  ...                          0.0\n",
              "32931  1.646182e+09  ...                          0.0\n",
              "\n",
              "[32932 rows x 17 columns]"
            ]
          },
          "metadata": {},
          "execution_count": 185
        }
      ]
    },
    {
      "cell_type": "code",
      "source": [
        "df_imu"
      ],
      "metadata": {
        "colab": {
          "base_uri": "https://localhost:8080/",
          "height": 488
        },
        "id": "99E17EBCqrdr",
        "outputId": "99d783c3-257a-40da-ec69-617e68ebf5a3"
      },
      "execution_count": 186,
      "outputs": [
        {
          "output_type": "execute_result",
          "data": {
            "text/html": [
              "\n",
              "  <div id=\"df-b61e9b18-4c75-491f-9906-a84b45c67c62\">\n",
              "    <div class=\"colab-df-container\">\n",
              "      <div>\n",
              "<style scoped>\n",
              "    .dataframe tbody tr th:only-of-type {\n",
              "        vertical-align: middle;\n",
              "    }\n",
              "\n",
              "    .dataframe tbody tr th {\n",
              "        vertical-align: top;\n",
              "    }\n",
              "\n",
              "    .dataframe thead th {\n",
              "        text-align: right;\n",
              "    }\n",
              "</style>\n",
              "<table border=\"1\" class=\"dataframe\">\n",
              "  <thead>\n",
              "    <tr style=\"text-align: right;\">\n",
              "      <th></th>\n",
              "      <th>Time</th>\n",
              "      <th>header.seq</th>\n",
              "      <th>header.stamp.secs</th>\n",
              "      <th>header.stamp.nsecs</th>\n",
              "      <th>header.frame_id</th>\n",
              "      <th>orientation.x</th>\n",
              "      <th>orientation.y</th>\n",
              "      <th>orientation.z</th>\n",
              "      <th>orientation.w</th>\n",
              "      <th>orientation_covariance_0</th>\n",
              "      <th>orientation_covariance_1</th>\n",
              "      <th>orientation_covariance_2</th>\n",
              "      <th>orientation_covariance_3</th>\n",
              "      <th>orientation_covariance_4</th>\n",
              "      <th>orientation_covariance_5</th>\n",
              "      <th>orientation_covariance_6</th>\n",
              "      <th>orientation_covariance_7</th>\n",
              "      <th>orientation_covariance_8</th>\n",
              "      <th>angular_velocity.x</th>\n",
              "      <th>angular_velocity.y</th>\n",
              "      <th>angular_velocity.z</th>\n",
              "      <th>angular_velocity_covariance_0</th>\n",
              "      <th>angular_velocity_covariance_1</th>\n",
              "      <th>angular_velocity_covariance_2</th>\n",
              "      <th>angular_velocity_covariance_3</th>\n",
              "      <th>angular_velocity_covariance_4</th>\n",
              "      <th>angular_velocity_covariance_5</th>\n",
              "      <th>angular_velocity_covariance_6</th>\n",
              "      <th>angular_velocity_covariance_7</th>\n",
              "      <th>angular_velocity_covariance_8</th>\n",
              "      <th>linear_acceleration.x</th>\n",
              "      <th>linear_acceleration.y</th>\n",
              "      <th>linear_acceleration.z</th>\n",
              "      <th>linear_acceleration_covariance_0</th>\n",
              "      <th>linear_acceleration_covariance_1</th>\n",
              "      <th>linear_acceleration_covariance_2</th>\n",
              "      <th>linear_acceleration_covariance_3</th>\n",
              "      <th>linear_acceleration_covariance_4</th>\n",
              "      <th>linear_acceleration_covariance_5</th>\n",
              "      <th>linear_acceleration_covariance_6</th>\n",
              "      <th>linear_acceleration_covariance_7</th>\n",
              "      <th>linear_acceleration_covariance_8</th>\n",
              "    </tr>\n",
              "  </thead>\n",
              "  <tbody>\n",
              "    <tr>\n",
              "      <th>0</th>\n",
              "      <td>1.646181e+09</td>\n",
              "      <td>176</td>\n",
              "      <td>1646180985</td>\n",
              "      <td>427141904</td>\n",
              "      <td>IMU_DATA</td>\n",
              "      <td>-0.024486</td>\n",
              "      <td>-0.011943</td>\n",
              "      <td>-0.866504</td>\n",
              "      <td>0.498425</td>\n",
              "      <td>0.0</td>\n",
              "      <td>0.0</td>\n",
              "      <td>0.0</td>\n",
              "      <td>0.0</td>\n",
              "      <td>0.0</td>\n",
              "      <td>0.0</td>\n",
              "      <td>0.0</td>\n",
              "      <td>0.0</td>\n",
              "      <td>0.0</td>\n",
              "      <td>-0.000698</td>\n",
              "      <td>0.000931</td>\n",
              "      <td>0.001315</td>\n",
              "      <td>0.0</td>\n",
              "      <td>0.0</td>\n",
              "      <td>0.0</td>\n",
              "      <td>0.0</td>\n",
              "      <td>0.0</td>\n",
              "      <td>0.0</td>\n",
              "      <td>0.0</td>\n",
              "      <td>0.0</td>\n",
              "      <td>0.0</td>\n",
              "      <td>-0.519</td>\n",
              "      <td>0.048</td>\n",
              "      <td>-9.582</td>\n",
              "      <td>0.0</td>\n",
              "      <td>0.0</td>\n",
              "      <td>0.0</td>\n",
              "      <td>0.0</td>\n",
              "      <td>0.0</td>\n",
              "      <td>0.0</td>\n",
              "      <td>0.0</td>\n",
              "      <td>0.0</td>\n",
              "      <td>0.0</td>\n",
              "    </tr>\n",
              "    <tr>\n",
              "      <th>1</th>\n",
              "      <td>1.646181e+09</td>\n",
              "      <td>177</td>\n",
              "      <td>1646180985</td>\n",
              "      <td>452197790</td>\n",
              "      <td>IMU_DATA</td>\n",
              "      <td>-0.024486</td>\n",
              "      <td>-0.011943</td>\n",
              "      <td>-0.866496</td>\n",
              "      <td>0.498440</td>\n",
              "      <td>0.0</td>\n",
              "      <td>0.0</td>\n",
              "      <td>0.0</td>\n",
              "      <td>0.0</td>\n",
              "      <td>0.0</td>\n",
              "      <td>0.0</td>\n",
              "      <td>0.0</td>\n",
              "      <td>0.0</td>\n",
              "      <td>0.0</td>\n",
              "      <td>-0.000201</td>\n",
              "      <td>-0.001442</td>\n",
              "      <td>0.003762</td>\n",
              "      <td>0.0</td>\n",
              "      <td>0.0</td>\n",
              "      <td>0.0</td>\n",
              "      <td>0.0</td>\n",
              "      <td>0.0</td>\n",
              "      <td>0.0</td>\n",
              "      <td>0.0</td>\n",
              "      <td>0.0</td>\n",
              "      <td>0.0</td>\n",
              "      <td>-0.524</td>\n",
              "      <td>0.009</td>\n",
              "      <td>-9.571</td>\n",
              "      <td>0.0</td>\n",
              "      <td>0.0</td>\n",
              "      <td>0.0</td>\n",
              "      <td>0.0</td>\n",
              "      <td>0.0</td>\n",
              "      <td>0.0</td>\n",
              "      <td>0.0</td>\n",
              "      <td>0.0</td>\n",
              "      <td>0.0</td>\n",
              "    </tr>\n",
              "    <tr>\n",
              "      <th>2</th>\n",
              "      <td>1.646181e+09</td>\n",
              "      <td>178</td>\n",
              "      <td>1646180985</td>\n",
              "      <td>477082967</td>\n",
              "      <td>IMU_DATA</td>\n",
              "      <td>-0.024490</td>\n",
              "      <td>-0.011936</td>\n",
              "      <td>-0.866496</td>\n",
              "      <td>0.498440</td>\n",
              "      <td>0.0</td>\n",
              "      <td>0.0</td>\n",
              "      <td>0.0</td>\n",
              "      <td>0.0</td>\n",
              "      <td>0.0</td>\n",
              "      <td>0.0</td>\n",
              "      <td>0.0</td>\n",
              "      <td>0.0</td>\n",
              "      <td>0.0</td>\n",
              "      <td>0.000014</td>\n",
              "      <td>0.000097</td>\n",
              "      <td>0.001736</td>\n",
              "      <td>0.0</td>\n",
              "      <td>0.0</td>\n",
              "      <td>0.0</td>\n",
              "      <td>0.0</td>\n",
              "      <td>0.0</td>\n",
              "      <td>0.0</td>\n",
              "      <td>0.0</td>\n",
              "      <td>0.0</td>\n",
              "      <td>0.0</td>\n",
              "      <td>-0.531</td>\n",
              "      <td>0.025</td>\n",
              "      <td>-9.653</td>\n",
              "      <td>0.0</td>\n",
              "      <td>0.0</td>\n",
              "      <td>0.0</td>\n",
              "      <td>0.0</td>\n",
              "      <td>0.0</td>\n",
              "      <td>0.0</td>\n",
              "      <td>0.0</td>\n",
              "      <td>0.0</td>\n",
              "      <td>0.0</td>\n",
              "    </tr>\n",
              "    <tr>\n",
              "      <th>3</th>\n",
              "      <td>1.646181e+09</td>\n",
              "      <td>179</td>\n",
              "      <td>1646180985</td>\n",
              "      <td>502004384</td>\n",
              "      <td>IMU_DATA</td>\n",
              "      <td>-0.024498</td>\n",
              "      <td>-0.011940</td>\n",
              "      <td>-0.866491</td>\n",
              "      <td>0.498448</td>\n",
              "      <td>0.0</td>\n",
              "      <td>0.0</td>\n",
              "      <td>0.0</td>\n",
              "      <td>0.0</td>\n",
              "      <td>0.0</td>\n",
              "      <td>0.0</td>\n",
              "      <td>0.0</td>\n",
              "      <td>0.0</td>\n",
              "      <td>0.0</td>\n",
              "      <td>-0.000329</td>\n",
              "      <td>-0.003386</td>\n",
              "      <td>0.002378</td>\n",
              "      <td>0.0</td>\n",
              "      <td>0.0</td>\n",
              "      <td>0.0</td>\n",
              "      <td>0.0</td>\n",
              "      <td>0.0</td>\n",
              "      <td>0.0</td>\n",
              "      <td>0.0</td>\n",
              "      <td>0.0</td>\n",
              "      <td>0.0</td>\n",
              "      <td>-0.499</td>\n",
              "      <td>0.041</td>\n",
              "      <td>-9.662</td>\n",
              "      <td>0.0</td>\n",
              "      <td>0.0</td>\n",
              "      <td>0.0</td>\n",
              "      <td>0.0</td>\n",
              "      <td>0.0</td>\n",
              "      <td>0.0</td>\n",
              "      <td>0.0</td>\n",
              "      <td>0.0</td>\n",
              "      <td>0.0</td>\n",
              "    </tr>\n",
              "    <tr>\n",
              "      <th>4</th>\n",
              "      <td>1.646181e+09</td>\n",
              "      <td>180</td>\n",
              "      <td>1646180985</td>\n",
              "      <td>527038097</td>\n",
              "      <td>IMU_DATA</td>\n",
              "      <td>-0.024494</td>\n",
              "      <td>-0.011929</td>\n",
              "      <td>-0.866483</td>\n",
              "      <td>0.498463</td>\n",
              "      <td>0.0</td>\n",
              "      <td>0.0</td>\n",
              "      <td>0.0</td>\n",
              "      <td>0.0</td>\n",
              "      <td>0.0</td>\n",
              "      <td>0.0</td>\n",
              "      <td>0.0</td>\n",
              "      <td>0.0</td>\n",
              "      <td>0.0</td>\n",
              "      <td>0.000012</td>\n",
              "      <td>-0.001227</td>\n",
              "      <td>0.003527</td>\n",
              "      <td>0.0</td>\n",
              "      <td>0.0</td>\n",
              "      <td>0.0</td>\n",
              "      <td>0.0</td>\n",
              "      <td>0.0</td>\n",
              "      <td>0.0</td>\n",
              "      <td>0.0</td>\n",
              "      <td>0.0</td>\n",
              "      <td>0.0</td>\n",
              "      <td>-0.524</td>\n",
              "      <td>0.024</td>\n",
              "      <td>-9.603</td>\n",
              "      <td>0.0</td>\n",
              "      <td>0.0</td>\n",
              "      <td>0.0</td>\n",
              "      <td>0.0</td>\n",
              "      <td>0.0</td>\n",
              "      <td>0.0</td>\n",
              "      <td>0.0</td>\n",
              "      <td>0.0</td>\n",
              "      <td>0.0</td>\n",
              "    </tr>\n",
              "    <tr>\n",
              "      <th>...</th>\n",
              "      <td>...</td>\n",
              "      <td>...</td>\n",
              "      <td>...</td>\n",
              "      <td>...</td>\n",
              "      <td>...</td>\n",
              "      <td>...</td>\n",
              "      <td>...</td>\n",
              "      <td>...</td>\n",
              "      <td>...</td>\n",
              "      <td>...</td>\n",
              "      <td>...</td>\n",
              "      <td>...</td>\n",
              "      <td>...</td>\n",
              "      <td>...</td>\n",
              "      <td>...</td>\n",
              "      <td>...</td>\n",
              "      <td>...</td>\n",
              "      <td>...</td>\n",
              "      <td>...</td>\n",
              "      <td>...</td>\n",
              "      <td>...</td>\n",
              "      <td>...</td>\n",
              "      <td>...</td>\n",
              "      <td>...</td>\n",
              "      <td>...</td>\n",
              "      <td>...</td>\n",
              "      <td>...</td>\n",
              "      <td>...</td>\n",
              "      <td>...</td>\n",
              "      <td>...</td>\n",
              "      <td>...</td>\n",
              "      <td>...</td>\n",
              "      <td>...</td>\n",
              "      <td>...</td>\n",
              "      <td>...</td>\n",
              "      <td>...</td>\n",
              "      <td>...</td>\n",
              "      <td>...</td>\n",
              "      <td>...</td>\n",
              "      <td>...</td>\n",
              "      <td>...</td>\n",
              "      <td>...</td>\n",
              "    </tr>\n",
              "    <tr>\n",
              "      <th>32927</th>\n",
              "      <td>1.646182e+09</td>\n",
              "      <td>33103</td>\n",
              "      <td>1646181808</td>\n",
              "      <td>605324983</td>\n",
              "      <td>IMU_DATA</td>\n",
              "      <td>-0.024774</td>\n",
              "      <td>-0.011947</td>\n",
              "      <td>-0.866978</td>\n",
              "      <td>0.497587</td>\n",
              "      <td>0.0</td>\n",
              "      <td>0.0</td>\n",
              "      <td>0.0</td>\n",
              "      <td>0.0</td>\n",
              "      <td>0.0</td>\n",
              "      <td>0.0</td>\n",
              "      <td>0.0</td>\n",
              "      <td>0.0</td>\n",
              "      <td>0.0</td>\n",
              "      <td>-0.000431</td>\n",
              "      <td>-0.003547</td>\n",
              "      <td>0.001663</td>\n",
              "      <td>0.0</td>\n",
              "      <td>0.0</td>\n",
              "      <td>0.0</td>\n",
              "      <td>0.0</td>\n",
              "      <td>0.0</td>\n",
              "      <td>0.0</td>\n",
              "      <td>0.0</td>\n",
              "      <td>0.0</td>\n",
              "      <td>0.0</td>\n",
              "      <td>-0.552</td>\n",
              "      <td>0.053</td>\n",
              "      <td>-9.666</td>\n",
              "      <td>0.0</td>\n",
              "      <td>0.0</td>\n",
              "      <td>0.0</td>\n",
              "      <td>0.0</td>\n",
              "      <td>0.0</td>\n",
              "      <td>0.0</td>\n",
              "      <td>0.0</td>\n",
              "      <td>0.0</td>\n",
              "      <td>0.0</td>\n",
              "    </tr>\n",
              "    <tr>\n",
              "      <th>32928</th>\n",
              "      <td>1.646182e+09</td>\n",
              "      <td>33104</td>\n",
              "      <td>1646181808</td>\n",
              "      <td>630343198</td>\n",
              "      <td>IMU_DATA</td>\n",
              "      <td>-0.024791</td>\n",
              "      <td>-0.011917</td>\n",
              "      <td>-0.866974</td>\n",
              "      <td>0.497593</td>\n",
              "      <td>0.0</td>\n",
              "      <td>0.0</td>\n",
              "      <td>0.0</td>\n",
              "      <td>0.0</td>\n",
              "      <td>0.0</td>\n",
              "      <td>0.0</td>\n",
              "      <td>0.0</td>\n",
              "      <td>0.0</td>\n",
              "      <td>0.0</td>\n",
              "      <td>-0.000695</td>\n",
              "      <td>-0.000523</td>\n",
              "      <td>0.000088</td>\n",
              "      <td>0.0</td>\n",
              "      <td>0.0</td>\n",
              "      <td>0.0</td>\n",
              "      <td>0.0</td>\n",
              "      <td>0.0</td>\n",
              "      <td>0.0</td>\n",
              "      <td>0.0</td>\n",
              "      <td>0.0</td>\n",
              "      <td>0.0</td>\n",
              "      <td>-0.517</td>\n",
              "      <td>0.055</td>\n",
              "      <td>-9.616</td>\n",
              "      <td>0.0</td>\n",
              "      <td>0.0</td>\n",
              "      <td>0.0</td>\n",
              "      <td>0.0</td>\n",
              "      <td>0.0</td>\n",
              "      <td>0.0</td>\n",
              "      <td>0.0</td>\n",
              "      <td>0.0</td>\n",
              "      <td>0.0</td>\n",
              "    </tr>\n",
              "    <tr>\n",
              "      <th>32929</th>\n",
              "      <td>1.646182e+09</td>\n",
              "      <td>33105</td>\n",
              "      <td>1646181808</td>\n",
              "      <td>655341625</td>\n",
              "      <td>IMU_DATA</td>\n",
              "      <td>-0.024798</td>\n",
              "      <td>-0.011921</td>\n",
              "      <td>-0.866970</td>\n",
              "      <td>0.497601</td>\n",
              "      <td>0.0</td>\n",
              "      <td>0.0</td>\n",
              "      <td>0.0</td>\n",
              "      <td>0.0</td>\n",
              "      <td>0.0</td>\n",
              "      <td>0.0</td>\n",
              "      <td>0.0</td>\n",
              "      <td>0.0</td>\n",
              "      <td>0.0</td>\n",
              "      <td>-0.000681</td>\n",
              "      <td>-0.002032</td>\n",
              "      <td>0.001434</td>\n",
              "      <td>0.0</td>\n",
              "      <td>0.0</td>\n",
              "      <td>0.0</td>\n",
              "      <td>0.0</td>\n",
              "      <td>0.0</td>\n",
              "      <td>0.0</td>\n",
              "      <td>0.0</td>\n",
              "      <td>0.0</td>\n",
              "      <td>0.0</td>\n",
              "      <td>-0.536</td>\n",
              "      <td>0.034</td>\n",
              "      <td>-9.566</td>\n",
              "      <td>0.0</td>\n",
              "      <td>0.0</td>\n",
              "      <td>0.0</td>\n",
              "      <td>0.0</td>\n",
              "      <td>0.0</td>\n",
              "      <td>0.0</td>\n",
              "      <td>0.0</td>\n",
              "      <td>0.0</td>\n",
              "      <td>0.0</td>\n",
              "    </tr>\n",
              "    <tr>\n",
              "      <th>32930</th>\n",
              "      <td>1.646182e+09</td>\n",
              "      <td>33106</td>\n",
              "      <td>1646181808</td>\n",
              "      <td>680311441</td>\n",
              "      <td>IMU_DATA</td>\n",
              "      <td>-0.024798</td>\n",
              "      <td>-0.011921</td>\n",
              "      <td>-0.866970</td>\n",
              "      <td>0.497601</td>\n",
              "      <td>0.0</td>\n",
              "      <td>0.0</td>\n",
              "      <td>0.0</td>\n",
              "      <td>0.0</td>\n",
              "      <td>0.0</td>\n",
              "      <td>0.0</td>\n",
              "      <td>0.0</td>\n",
              "      <td>0.0</td>\n",
              "      <td>0.0</td>\n",
              "      <td>-0.000613</td>\n",
              "      <td>-0.000183</td>\n",
              "      <td>0.001046</td>\n",
              "      <td>0.0</td>\n",
              "      <td>0.0</td>\n",
              "      <td>0.0</td>\n",
              "      <td>0.0</td>\n",
              "      <td>0.0</td>\n",
              "      <td>0.0</td>\n",
              "      <td>0.0</td>\n",
              "      <td>0.0</td>\n",
              "      <td>0.0</td>\n",
              "      <td>-0.489</td>\n",
              "      <td>0.036</td>\n",
              "      <td>-9.655</td>\n",
              "      <td>0.0</td>\n",
              "      <td>0.0</td>\n",
              "      <td>0.0</td>\n",
              "      <td>0.0</td>\n",
              "      <td>0.0</td>\n",
              "      <td>0.0</td>\n",
              "      <td>0.0</td>\n",
              "      <td>0.0</td>\n",
              "      <td>0.0</td>\n",
              "    </tr>\n",
              "    <tr>\n",
              "      <th>32931</th>\n",
              "      <td>1.646182e+09</td>\n",
              "      <td>33107</td>\n",
              "      <td>1646181808</td>\n",
              "      <td>705342292</td>\n",
              "      <td>IMU_DATA</td>\n",
              "      <td>-0.024798</td>\n",
              "      <td>-0.011922</td>\n",
              "      <td>-0.866957</td>\n",
              "      <td>0.497623</td>\n",
              "      <td>0.0</td>\n",
              "      <td>0.0</td>\n",
              "      <td>0.0</td>\n",
              "      <td>0.0</td>\n",
              "      <td>0.0</td>\n",
              "      <td>0.0</td>\n",
              "      <td>0.0</td>\n",
              "      <td>0.0</td>\n",
              "      <td>0.0</td>\n",
              "      <td>-0.000281</td>\n",
              "      <td>0.000264</td>\n",
              "      <td>-0.000289</td>\n",
              "      <td>0.0</td>\n",
              "      <td>0.0</td>\n",
              "      <td>0.0</td>\n",
              "      <td>0.0</td>\n",
              "      <td>0.0</td>\n",
              "      <td>0.0</td>\n",
              "      <td>0.0</td>\n",
              "      <td>0.0</td>\n",
              "      <td>0.0</td>\n",
              "      <td>-0.516</td>\n",
              "      <td>0.027</td>\n",
              "      <td>-9.624</td>\n",
              "      <td>0.0</td>\n",
              "      <td>0.0</td>\n",
              "      <td>0.0</td>\n",
              "      <td>0.0</td>\n",
              "      <td>0.0</td>\n",
              "      <td>0.0</td>\n",
              "      <td>0.0</td>\n",
              "      <td>0.0</td>\n",
              "      <td>0.0</td>\n",
              "    </tr>\n",
              "  </tbody>\n",
              "</table>\n",
              "<p>32932 rows × 42 columns</p>\n",
              "</div>\n",
              "      <button class=\"colab-df-convert\" onclick=\"convertToInteractive('df-b61e9b18-4c75-491f-9906-a84b45c67c62')\"\n",
              "              title=\"Convert this dataframe to an interactive table.\"\n",
              "              style=\"display:none;\">\n",
              "        \n",
              "  <svg xmlns=\"http://www.w3.org/2000/svg\" height=\"24px\"viewBox=\"0 0 24 24\"\n",
              "       width=\"24px\">\n",
              "    <path d=\"M0 0h24v24H0V0z\" fill=\"none\"/>\n",
              "    <path d=\"M18.56 5.44l.94 2.06.94-2.06 2.06-.94-2.06-.94-.94-2.06-.94 2.06-2.06.94zm-11 1L8.5 8.5l.94-2.06 2.06-.94-2.06-.94L8.5 2.5l-.94 2.06-2.06.94zm10 10l.94 2.06.94-2.06 2.06-.94-2.06-.94-.94-2.06-.94 2.06-2.06.94z\"/><path d=\"M17.41 7.96l-1.37-1.37c-.4-.4-.92-.59-1.43-.59-.52 0-1.04.2-1.43.59L10.3 9.45l-7.72 7.72c-.78.78-.78 2.05 0 2.83L4 21.41c.39.39.9.59 1.41.59.51 0 1.02-.2 1.41-.59l7.78-7.78 2.81-2.81c.8-.78.8-2.07 0-2.86zM5.41 20L4 18.59l7.72-7.72 1.47 1.35L5.41 20z\"/>\n",
              "  </svg>\n",
              "      </button>\n",
              "      \n",
              "  <style>\n",
              "    .colab-df-container {\n",
              "      display:flex;\n",
              "      flex-wrap:wrap;\n",
              "      gap: 12px;\n",
              "    }\n",
              "\n",
              "    .colab-df-convert {\n",
              "      background-color: #E8F0FE;\n",
              "      border: none;\n",
              "      border-radius: 50%;\n",
              "      cursor: pointer;\n",
              "      display: none;\n",
              "      fill: #1967D2;\n",
              "      height: 32px;\n",
              "      padding: 0 0 0 0;\n",
              "      width: 32px;\n",
              "    }\n",
              "\n",
              "    .colab-df-convert:hover {\n",
              "      background-color: #E2EBFA;\n",
              "      box-shadow: 0px 1px 2px rgba(60, 64, 67, 0.3), 0px 1px 3px 1px rgba(60, 64, 67, 0.15);\n",
              "      fill: #174EA6;\n",
              "    }\n",
              "\n",
              "    [theme=dark] .colab-df-convert {\n",
              "      background-color: #3B4455;\n",
              "      fill: #D2E3FC;\n",
              "    }\n",
              "\n",
              "    [theme=dark] .colab-df-convert:hover {\n",
              "      background-color: #434B5C;\n",
              "      box-shadow: 0px 1px 3px 1px rgba(0, 0, 0, 0.15);\n",
              "      filter: drop-shadow(0px 1px 2px rgba(0, 0, 0, 0.3));\n",
              "      fill: #FFFFFF;\n",
              "    }\n",
              "  </style>\n",
              "\n",
              "      <script>\n",
              "        const buttonEl =\n",
              "          document.querySelector('#df-b61e9b18-4c75-491f-9906-a84b45c67c62 button.colab-df-convert');\n",
              "        buttonEl.style.display =\n",
              "          google.colab.kernel.accessAllowed ? 'block' : 'none';\n",
              "\n",
              "        async function convertToInteractive(key) {\n",
              "          const element = document.querySelector('#df-b61e9b18-4c75-491f-9906-a84b45c67c62');\n",
              "          const dataTable =\n",
              "            await google.colab.kernel.invokeFunction('convertToInteractive',\n",
              "                                                     [key], {});\n",
              "          if (!dataTable) return;\n",
              "\n",
              "          const docLinkHtml = 'Like what you see? Visit the ' +\n",
              "            '<a target=\"_blank\" href=https://colab.research.google.com/notebooks/data_table.ipynb>data table notebook</a>'\n",
              "            + ' to learn more about interactive tables.';\n",
              "          element.innerHTML = '';\n",
              "          dataTable['output_type'] = 'display_data';\n",
              "          await google.colab.output.renderOutput(dataTable, element);\n",
              "          const docLink = document.createElement('div');\n",
              "          docLink.innerHTML = docLinkHtml;\n",
              "          element.appendChild(docLink);\n",
              "        }\n",
              "      </script>\n",
              "    </div>\n",
              "  </div>\n",
              "  "
            ],
            "text/plain": [
              "               Time  ...  linear_acceleration_covariance_8\n",
              "0      1.646181e+09  ...                               0.0\n",
              "1      1.646181e+09  ...                               0.0\n",
              "2      1.646181e+09  ...                               0.0\n",
              "3      1.646181e+09  ...                               0.0\n",
              "4      1.646181e+09  ...                               0.0\n",
              "...             ...  ...                               ...\n",
              "32927  1.646182e+09  ...                               0.0\n",
              "32928  1.646182e+09  ...                               0.0\n",
              "32929  1.646182e+09  ...                               0.0\n",
              "32930  1.646182e+09  ...                               0.0\n",
              "32931  1.646182e+09  ...                               0.0\n",
              "\n",
              "[32932 rows x 42 columns]"
            ]
          },
          "metadata": {},
          "execution_count": 186
        }
      ]
    },
    {
      "cell_type": "code",
      "source": [
        "df_imu1 = df_mag[['magnetic_field.x','magnetic_field.y','magnetic_field.z',]]"
      ],
      "metadata": {
        "id": "alNoGIhKmbgr"
      },
      "execution_count": 198,
      "outputs": []
    },
    {
      "cell_type": "code",
      "source": [
        "df_imu1.describe()"
      ],
      "metadata": {
        "colab": {
          "base_uri": "https://localhost:8080/",
          "height": 279
        },
        "id": "cEwhnEn0ljee",
        "outputId": "7b12172b-3384-49f8-8fd2-92e43a799c1a"
      },
      "execution_count": 199,
      "outputs": [
        {
          "output_type": "execute_result",
          "data": {
            "text/html": [
              "\n",
              "  <div id=\"df-2b0e4ee0-bcf7-4bbd-a7ff-4b96e44becc3\">\n",
              "    <div class=\"colab-df-container\">\n",
              "      <div>\n",
              "<style scoped>\n",
              "    .dataframe tbody tr th:only-of-type {\n",
              "        vertical-align: middle;\n",
              "    }\n",
              "\n",
              "    .dataframe tbody tr th {\n",
              "        vertical-align: top;\n",
              "    }\n",
              "\n",
              "    .dataframe thead th {\n",
              "        text-align: right;\n",
              "    }\n",
              "</style>\n",
              "<table border=\"1\" class=\"dataframe\">\n",
              "  <thead>\n",
              "    <tr style=\"text-align: right;\">\n",
              "      <th></th>\n",
              "      <th>magnetic_field.x</th>\n",
              "      <th>magnetic_field.y</th>\n",
              "      <th>magnetic_field.z</th>\n",
              "    </tr>\n",
              "  </thead>\n",
              "  <tbody>\n",
              "    <tr>\n",
              "      <th>count</th>\n",
              "      <td>32932.000000</td>\n",
              "      <td>32932.000000</td>\n",
              "      <td>32932.000000</td>\n",
              "    </tr>\n",
              "    <tr>\n",
              "      <th>mean</th>\n",
              "      <td>-0.250810</td>\n",
              "      <td>-0.026741</td>\n",
              "      <td>0.241949</td>\n",
              "    </tr>\n",
              "    <tr>\n",
              "      <th>std</th>\n",
              "      <td>0.002686</td>\n",
              "      <td>0.001998</td>\n",
              "      <td>0.006565</td>\n",
              "    </tr>\n",
              "    <tr>\n",
              "      <th>min</th>\n",
              "      <td>-0.260900</td>\n",
              "      <td>-0.034900</td>\n",
              "      <td>0.207400</td>\n",
              "    </tr>\n",
              "    <tr>\n",
              "      <th>25%</th>\n",
              "      <td>-0.252100</td>\n",
              "      <td>-0.028100</td>\n",
              "      <td>0.238400</td>\n",
              "    </tr>\n",
              "    <tr>\n",
              "      <th>50%</th>\n",
              "      <td>-0.251000</td>\n",
              "      <td>-0.026900</td>\n",
              "      <td>0.241600</td>\n",
              "    </tr>\n",
              "    <tr>\n",
              "      <th>75%</th>\n",
              "      <td>-0.249400</td>\n",
              "      <td>-0.025600</td>\n",
              "      <td>0.245400</td>\n",
              "    </tr>\n",
              "    <tr>\n",
              "      <th>max</th>\n",
              "      <td>-0.240500</td>\n",
              "      <td>-0.017900</td>\n",
              "      <td>0.270900</td>\n",
              "    </tr>\n",
              "  </tbody>\n",
              "</table>\n",
              "</div>\n",
              "      <button class=\"colab-df-convert\" onclick=\"convertToInteractive('df-2b0e4ee0-bcf7-4bbd-a7ff-4b96e44becc3')\"\n",
              "              title=\"Convert this dataframe to an interactive table.\"\n",
              "              style=\"display:none;\">\n",
              "        \n",
              "  <svg xmlns=\"http://www.w3.org/2000/svg\" height=\"24px\"viewBox=\"0 0 24 24\"\n",
              "       width=\"24px\">\n",
              "    <path d=\"M0 0h24v24H0V0z\" fill=\"none\"/>\n",
              "    <path d=\"M18.56 5.44l.94 2.06.94-2.06 2.06-.94-2.06-.94-.94-2.06-.94 2.06-2.06.94zm-11 1L8.5 8.5l.94-2.06 2.06-.94-2.06-.94L8.5 2.5l-.94 2.06-2.06.94zm10 10l.94 2.06.94-2.06 2.06-.94-2.06-.94-.94-2.06-.94 2.06-2.06.94z\"/><path d=\"M17.41 7.96l-1.37-1.37c-.4-.4-.92-.59-1.43-.59-.52 0-1.04.2-1.43.59L10.3 9.45l-7.72 7.72c-.78.78-.78 2.05 0 2.83L4 21.41c.39.39.9.59 1.41.59.51 0 1.02-.2 1.41-.59l7.78-7.78 2.81-2.81c.8-.78.8-2.07 0-2.86zM5.41 20L4 18.59l7.72-7.72 1.47 1.35L5.41 20z\"/>\n",
              "  </svg>\n",
              "      </button>\n",
              "      \n",
              "  <style>\n",
              "    .colab-df-container {\n",
              "      display:flex;\n",
              "      flex-wrap:wrap;\n",
              "      gap: 12px;\n",
              "    }\n",
              "\n",
              "    .colab-df-convert {\n",
              "      background-color: #E8F0FE;\n",
              "      border: none;\n",
              "      border-radius: 50%;\n",
              "      cursor: pointer;\n",
              "      display: none;\n",
              "      fill: #1967D2;\n",
              "      height: 32px;\n",
              "      padding: 0 0 0 0;\n",
              "      width: 32px;\n",
              "    }\n",
              "\n",
              "    .colab-df-convert:hover {\n",
              "      background-color: #E2EBFA;\n",
              "      box-shadow: 0px 1px 2px rgba(60, 64, 67, 0.3), 0px 1px 3px 1px rgba(60, 64, 67, 0.15);\n",
              "      fill: #174EA6;\n",
              "    }\n",
              "\n",
              "    [theme=dark] .colab-df-convert {\n",
              "      background-color: #3B4455;\n",
              "      fill: #D2E3FC;\n",
              "    }\n",
              "\n",
              "    [theme=dark] .colab-df-convert:hover {\n",
              "      background-color: #434B5C;\n",
              "      box-shadow: 0px 1px 3px 1px rgba(0, 0, 0, 0.15);\n",
              "      filter: drop-shadow(0px 1px 2px rgba(0, 0, 0, 0.3));\n",
              "      fill: #FFFFFF;\n",
              "    }\n",
              "  </style>\n",
              "\n",
              "      <script>\n",
              "        const buttonEl =\n",
              "          document.querySelector('#df-2b0e4ee0-bcf7-4bbd-a7ff-4b96e44becc3 button.colab-df-convert');\n",
              "        buttonEl.style.display =\n",
              "          google.colab.kernel.accessAllowed ? 'block' : 'none';\n",
              "\n",
              "        async function convertToInteractive(key) {\n",
              "          const element = document.querySelector('#df-2b0e4ee0-bcf7-4bbd-a7ff-4b96e44becc3');\n",
              "          const dataTable =\n",
              "            await google.colab.kernel.invokeFunction('convertToInteractive',\n",
              "                                                     [key], {});\n",
              "          if (!dataTable) return;\n",
              "\n",
              "          const docLinkHtml = 'Like what you see? Visit the ' +\n",
              "            '<a target=\"_blank\" href=https://colab.research.google.com/notebooks/data_table.ipynb>data table notebook</a>'\n",
              "            + ' to learn more about interactive tables.';\n",
              "          element.innerHTML = '';\n",
              "          dataTable['output_type'] = 'display_data';\n",
              "          await google.colab.output.renderOutput(dataTable, element);\n",
              "          const docLink = document.createElement('div');\n",
              "          docLink.innerHTML = docLinkHtml;\n",
              "          element.appendChild(docLink);\n",
              "        }\n",
              "      </script>\n",
              "    </div>\n",
              "  </div>\n",
              "  "
            ],
            "text/plain": [
              "       magnetic_field.x  magnetic_field.y  magnetic_field.z\n",
              "count      32932.000000      32932.000000      32932.000000\n",
              "mean          -0.250810         -0.026741          0.241949\n",
              "std            0.002686          0.001998          0.006565\n",
              "min           -0.260900         -0.034900          0.207400\n",
              "25%           -0.252100         -0.028100          0.238400\n",
              "50%           -0.251000         -0.026900          0.241600\n",
              "75%           -0.249400         -0.025600          0.245400\n",
              "max           -0.240500         -0.017900          0.270900"
            ]
          },
          "metadata": {},
          "execution_count": 199
        }
      ]
    },
    {
      "cell_type": "markdown",
      "source": [
        "#15min IMU Data Analysis"
      ],
      "metadata": {
        "id": "9NgW-Akxt9ri"
      }
    },
    {
      "cell_type": "markdown",
      "source": [
        "Orientation"
      ],
      "metadata": {
        "id": "Yc12gC-LxAG0"
      }
    },
    {
      "cell_type": "code",
      "source": [
        "sequence = df_imu['header.seq']\n",
        "qx = df_imu['orientation.x']\n",
        "qy = df_imu['orientation.y']\n",
        "qz = df_imu['orientation.z']\n",
        "qw = df_imu['orientation.w']"
      ],
      "metadata": {
        "id": "fUIJB_5ssbMQ"
      },
      "execution_count": 103,
      "outputs": []
    },
    {
      "cell_type": "code",
      "source": [
        "qw_mean = np.mean(qw)\n",
        "qw_dev = np.std(qw)\n",
        "list_qw = np.ones((qw.shape[0],1))*qw_mean\n",
        "list_qw_std1 = np.ones((qw.shape[0],1))*qw_dev+list_qw\n",
        "list_qw_std2 = -np.ones((qw.shape[0],1))*qw_dev+list_qw"
      ],
      "metadata": {
        "id": "cPgTbFBLxGCD"
      },
      "execution_count": 104,
      "outputs": []
    },
    {
      "cell_type": "code",
      "source": [
        "plt.plot(qw)\n",
        "plt.plot(list_qw, label='Mean_qw')\n",
        "plt.plot(list_qw_std1, label='+Std_qw')\n",
        "plt.plot(list_qw_std2, label='-Std_qw')\n",
        "plt.xlabel('sequence')\n",
        "plt.ylabel('qw')\n",
        "plt.title('Quaternion scalar')\n",
        "plt.legend()"
      ],
      "metadata": {
        "colab": {
          "base_uri": "https://localhost:8080/",
          "height": 312
        },
        "id": "UsHHfLzJvpQc",
        "outputId": "d3f25296-25af-4018-9db9-11e5b5db312e"
      },
      "execution_count": 105,
      "outputs": [
        {
          "output_type": "execute_result",
          "data": {
            "text/plain": [
              "<matplotlib.legend.Legend at 0x7f3439f25510>"
            ]
          },
          "metadata": {},
          "execution_count": 105
        },
        {
          "output_type": "display_data",
          "data": {
            "image/png": "[encoded data removed]",
            "text/plain": [
              "<Figure size 432x288 with 1 Axes>"
            ]
          },
          "metadata": {
            "needs_background": "light"
          }
        }
      ]
    },
    {
      "cell_type": "code",
      "source": [
        "qx_mean = np.mean(qx)\n",
        "qx_dev = np.std(qx)\n",
        "list_qx = np.ones((qx.shape[0],1))*qx_mean\n",
        "list_qx_std1 = np.ones((qx.shape[0],1))*qx_dev+list_qx\n",
        "list_qx_std2 = -np.ones((qx.shape[0],1))*qx_dev+list_qx"
      ],
      "metadata": {
        "id": "xFpV1BkLywPG"
      },
      "execution_count": 106,
      "outputs": []
    },
    {
      "cell_type": "code",
      "source": [
        "plt.plot(qx)\n",
        "plt.plot(list_qx, label='Mean_qx')\n",
        "plt.plot(list_qx_std1, label='+Std_qx')\n",
        "plt.plot(list_qx_std2, label='-Std_qx')\n",
        "plt.xlabel('sequence')\n",
        "plt.ylabel('qx')\n",
        "plt.title('Quaternion x component')\n",
        "plt.legend()"
      ],
      "metadata": {
        "colab": {
          "base_uri": "https://localhost:8080/",
          "height": 312
        },
        "id": "XfgeTlh8w0tD",
        "outputId": "dab80b94-5220-404a-b873-1999dab711bc"
      },
      "execution_count": 107,
      "outputs": [
        {
          "output_type": "execute_result",
          "data": {
            "text/plain": [
              "<matplotlib.legend.Legend at 0x7f3466dcc050>"
            ]
          },
          "metadata": {},
          "execution_count": 107
        },
        {
          "output_type": "display_data",
          "data": {
            "image/png": "[encoded data removed]",
            "text/plain": [
              "<Figure size 432x288 with 1 Axes>"
            ]
          },
          "metadata": {
            "needs_background": "light"
          }
        }
      ]
    },
    {
      "cell_type": "code",
      "source": [
        "qy_mean = np.mean(qy)\n",
        "qy_dev = np.std(qy)\n",
        "list_qy = np.ones((qy.shape[0],1))*qy_mean\n",
        "list_qy_std1 = np.ones((qy.shape[0],1))*qy_dev+list_qy\n",
        "list_qy_std2 = -np.ones((qy.shape[0],1))*qy_dev+list_qy"
      ],
      "metadata": {
        "id": "hJ5QV45vzM9I"
      },
      "execution_count": 108,
      "outputs": []
    },
    {
      "cell_type": "code",
      "source": [
        "plt.plot(qy)\n",
        "plt.plot(list_qy, label='Mean_qy')\n",
        "plt.plot(list_qy_std1, label='+Std_qy')\n",
        "plt.plot(list_qy_std2, label='-Std_qy')\n",
        "plt.xlabel('sequence')\n",
        "plt.ylabel('qy')\n",
        "plt.title('Quaternion y component')\n",
        "plt.legend()"
      ],
      "metadata": {
        "colab": {
          "base_uri": "https://localhost:8080/",
          "height": 312
        },
        "id": "yM7SDk0-w4Qk",
        "outputId": "84e1c029-4d30-4ec0-b625-5d88517468b6"
      },
      "execution_count": 109,
      "outputs": [
        {
          "output_type": "execute_result",
          "data": {
            "text/plain": [
              "<matplotlib.legend.Legend at 0x7f347f2d6450>"
            ]
          },
          "metadata": {},
          "execution_count": 109
        },
        {
          "output_type": "display_data",
          "data": {
            "image/png": "[encoded data removed]",
            "text/plain": [
              "<Figure size 432x288 with 1 Axes>"
            ]
          },
          "metadata": {
            "needs_background": "light"
          }
        }
      ]
    },
    {
      "cell_type": "code",
      "source": [
        "qz_mean = np.mean(qz)\n",
        "qz_dev = np.std(qz)\n",
        "list_qz = np.ones((qz.shape[0],1))*qz_mean\n",
        "list_qz_std1 = np.ones((qz.shape[0],1))*qz_dev+list_qz\n",
        "list_qz_std2 = -np.ones((qz.shape[0],1))*qz_dev+list_qz"
      ],
      "metadata": {
        "id": "9Abo90Hmzx3O"
      },
      "execution_count": 110,
      "outputs": []
    },
    {
      "cell_type": "code",
      "source": [
        "plt.plot(qz)\n",
        "plt.plot(list_qz, label='Mean_qz')\n",
        "plt.plot(list_qz_std1, label='+Std_qz')\n",
        "plt.plot(list_qz_std2, label='-Std_qz')\n",
        "plt.xlabel('sequence')\n",
        "plt.ylabel('qz')\n",
        "plt.title('Quaternion z component')\n",
        "plt.legend()"
      ],
      "metadata": {
        "colab": {
          "base_uri": "https://localhost:8080/",
          "height": 312
        },
        "id": "JEl32im-w6ns",
        "outputId": "edde4d1c-132f-4999-e528-84b061a24b93"
      },
      "execution_count": 111,
      "outputs": [
        {
          "output_type": "execute_result",
          "data": {
            "text/plain": [
              "<matplotlib.legend.Legend at 0x7f346830d310>"
            ]
          },
          "metadata": {},
          "execution_count": 111
        },
        {
          "output_type": "display_data",
          "data": {
            "image/png": "[encoded data removed]",
            "text/plain": [
              "<Figure size 432x288 with 1 Axes>"
            ]
          },
          "metadata": {
            "needs_background": "light"
          }
        }
      ]
    },
    {
      "cell_type": "markdown",
      "source": [
        "Angular velocity "
      ],
      "metadata": {
        "id": "FqiCS45j2tmt"
      }
    },
    {
      "cell_type": "code",
      "source": [
        "wx = df_imu['angular_velocity.x']\n",
        "wy = df_imu['angular_velocity.y']\n",
        "wz = df_imu['angular_velocity.z']"
      ],
      "metadata": {
        "id": "4Orxe5_lw80n"
      },
      "execution_count": 112,
      "outputs": []
    },
    {
      "cell_type": "code",
      "source": [
        "wx_mean = np.mean(wx)\n",
        "wx_dev = np.std(wx)\n",
        "list_wx = np.ones((wx.shape[0],1))*wx_mean\n",
        "list_wx_std1 = np.ones((wx.shape[0],1))*wx_dev+list_wx\n",
        "list_wx_std2 = -np.ones((wx.shape[0],1))*wx_dev+list_wx"
      ],
      "metadata": {
        "id": "unYnRkIs1OI0"
      },
      "execution_count": 113,
      "outputs": []
    },
    {
      "cell_type": "code",
      "source": [
        "plt.plot(wx)\n",
        "plt.plot(list_wx, label='Mean_wx')\n",
        "plt.plot(list_wx_std1, label='+Std_wx')\n",
        "plt.plot(list_wx_std2, label='-Std_wx')\n",
        "plt.xlabel('sequence')\n",
        "plt.ylabel('wx')\n",
        "plt.title('Angular Velocity x component')\n",
        "plt.legend()"
      ],
      "metadata": {
        "colab": {
          "base_uri": "https://localhost:8080/",
          "height": 312
        },
        "id": "jmN-hj9H1cwY",
        "outputId": "7033ff88-1aed-476b-caed-10259ea600ec"
      },
      "execution_count": 114,
      "outputs": [
        {
          "output_type": "execute_result",
          "data": {
            "text/plain": [
              "<matplotlib.legend.Legend at 0x7f347de75c90>"
            ]
          },
          "metadata": {},
          "execution_count": 114
        },
        {
          "output_type": "display_data",
          "data": {
            "image/png": "[encoded data removed]",
            "text/plain": [
              "<Figure size 432x288 with 1 Axes>"
            ]
          },
          "metadata": {
            "needs_background": "light"
          }
        }
      ]
    },
    {
      "cell_type": "code",
      "source": [
        "wy_mean = np.mean(wy)\n",
        "wy_dev = np.std(wy)\n",
        "list_wy = np.ones((wy.shape[0],1))*wx_mean\n",
        "list_wy_std1 = np.ones((wy.shape[0],1))*wy_dev+list_wy\n",
        "list_wy_std2 = -np.ones((wy.shape[0],1))*wy_dev+list_wy"
      ],
      "metadata": {
        "id": "u01anioA1ze9"
      },
      "execution_count": 115,
      "outputs": []
    },
    {
      "cell_type": "code",
      "source": [
        "plt.plot(wy)\n",
        "plt.plot(list_wy, label='Mean_wy')\n",
        "plt.plot(list_wy_std1, label='+Std_wy')\n",
        "plt.plot(list_wy_std2, label='-Std_wy')\n",
        "plt.xlabel('sequence')\n",
        "plt.ylabel('wy')\n",
        "plt.title('Angular Velocity y component')\n",
        "plt.legend()"
      ],
      "metadata": {
        "colab": {
          "base_uri": "https://localhost:8080/",
          "height": 312
        },
        "outputId": "46fc94de-4058-49cf-c54c-b06b8a734af1",
        "id": "tynBtlxq1ze-"
      },
      "execution_count": 116,
      "outputs": [
        {
          "output_type": "execute_result",
          "data": {
            "text/plain": [
              "<matplotlib.legend.Legend at 0x7f347dd7bb50>"
            ]
          },
          "metadata": {},
          "execution_count": 116
        },
        {
          "output_type": "display_data",
          "data": {
            "image/png": "[encoded data removed]",
            "text/plain": [
              "<Figure size 432x288 with 1 Axes>"
            ]
          },
          "metadata": {
            "needs_background": "light"
          }
        }
      ]
    },
    {
      "cell_type": "code",
      "source": [
        "wz_mean = np.mean(wz)\n",
        "wz_dev = np.std(wz)\n",
        "list_wz = np.ones((wz.shape[0],1))*wz_mean\n",
        "list_wz_std1 = np.ones((wz.shape[0],1))*wz_dev+list_wz\n",
        "list_wz_std2 = -np.ones((wz.shape[0],1))*wz_dev+list_wz"
      ],
      "metadata": {
        "id": "Qv13b7km10bb"
      },
      "execution_count": 117,
      "outputs": []
    },
    {
      "cell_type": "code",
      "source": [
        "plt.plot(wz)\n",
        "plt.plot(list_wz, label='Mean_wz')\n",
        "plt.plot(list_wz_std1, label='+Std_wz')\n",
        "plt.plot(list_wz_std2, label='-Std_wz')\n",
        "plt.xlabel('sequence')\n",
        "plt.ylabel('wz')\n",
        "plt.title('Angular Velocity z component')\n",
        "plt.legend()"
      ],
      "metadata": {
        "colab": {
          "base_uri": "https://localhost:8080/",
          "height": 312
        },
        "outputId": "3549f3bb-333a-42ee-ccb6-93bc6ef648df",
        "id": "u3WqgExl10bc"
      },
      "execution_count": 118,
      "outputs": [
        {
          "output_type": "execute_result",
          "data": {
            "text/plain": [
              "<matplotlib.legend.Legend at 0x7f347dd7b0d0>"
            ]
          },
          "metadata": {},
          "execution_count": 118
        },
        {
          "output_type": "display_data",
          "data": {
            "image/png": "[encoded data removed]",
            "text/plain": [
              "<Figure size 432x288 with 1 Axes>"
            ]
          },
          "metadata": {
            "needs_background": "light"
          }
        }
      ]
    },
    {
      "cell_type": "markdown",
      "source": [
        "Linear Accleration "
      ],
      "metadata": {
        "id": "HeyVFKe02wnj"
      }
    },
    {
      "cell_type": "code",
      "source": [
        "ax = df_imu['linear_acceleration.x']\n",
        "ay = df_imu['linear_acceleration.y']\n",
        "az = df_imu['linear_acceleration.z']"
      ],
      "metadata": {
        "id": "WWWbKxTO2o0L"
      },
      "execution_count": 119,
      "outputs": []
    },
    {
      "cell_type": "code",
      "source": [
        "ax_mean = np.mean(ax)\n",
        "ax_dev = np.std(ax)\n",
        "list_ax = np.ones((ax.shape[0],1))*ax_mean\n",
        "list_ax_std1 = np.ones((ax.shape[0],1))*ax_dev+list_ax\n",
        "list_ax_std2 = -np.ones((ax.shape[0],1))*ax_dev+list_ax"
      ],
      "metadata": {
        "id": "eSjOXlxk3GnH"
      },
      "execution_count": 120,
      "outputs": []
    },
    {
      "cell_type": "code",
      "source": [
        "plt.plot(ax)\n",
        "plt.plot(list_ax, label='Mean_ax')\n",
        "plt.plot(list_ax_std1, label='+Std_ax')\n",
        "plt.plot(list_ax_std2, label='-Std_ax')\n",
        "plt.xlabel('sequence')\n",
        "plt.ylabel('ax')\n",
        "plt.title('Linear Acceleration x component')\n",
        "plt.legend()"
      ],
      "metadata": {
        "colab": {
          "base_uri": "https://localhost:8080/",
          "height": 312
        },
        "outputId": "6dfe240d-2e8d-461f-d966-837c2b404891",
        "id": "OaghuzFN3GnI"
      },
      "execution_count": 121,
      "outputs": [
        {
          "output_type": "execute_result",
          "data": {
            "text/plain": [
              "<matplotlib.legend.Legend at 0x7f347d3c8f50>"
            ]
          },
          "metadata": {},
          "execution_count": 121
        },
        {
          "output_type": "display_data",
          "data": {
            "image/png": "[encoded data removed]",
            "text/plain": [
              "<Figure size 432x288 with 1 Axes>"
            ]
          },
          "metadata": {
            "needs_background": "light"
          }
        }
      ]
    },
    {
      "cell_type": "code",
      "source": [
        "ay_mean = np.mean(ay)\n",
        "ay_dev = np.std(ay)\n",
        "list_ay = np.ones((ay.shape[0],1))*ay_mean\n",
        "list_ay_std1 = np.ones((ay.shape[0],1))*ay_dev+list_ay\n",
        "list_ay_std2 = -np.ones((ay.shape[0],1))*ay_dev+list_ay"
      ],
      "metadata": {
        "id": "dUGlo7Se3hKH"
      },
      "execution_count": 122,
      "outputs": []
    },
    {
      "cell_type": "code",
      "source": [
        "plt.plot(ay)\n",
        "plt.plot(list_ay, label='Mean_ay')\n",
        "plt.plot(list_ay_std1, label='+Std_ay')\n",
        "plt.plot(list_ay_std2, label='-Std_ay')\n",
        "plt.xlabel('sequence')\n",
        "plt.ylabel('ay')\n",
        "plt.title('Linear Acceleration y component')\n",
        "plt.legend()"
      ],
      "metadata": {
        "colab": {
          "base_uri": "https://localhost:8080/",
          "height": 312
        },
        "outputId": "77a548a5-109b-4d0b-d74a-130ea15b8bfe",
        "id": "YScGzT_-3hKI"
      },
      "execution_count": 123,
      "outputs": [
        {
          "output_type": "execute_result",
          "data": {
            "text/plain": [
              "<matplotlib.legend.Legend at 0x7f347aaa8b50>"
            ]
          },
          "metadata": {},
          "execution_count": 123
        },
        {
          "output_type": "display_data",
          "data": {
            "image/png": "[encoded data removed]",
            "text/plain": [
              "<Figure size 432x288 with 1 Axes>"
            ]
          },
          "metadata": {
            "needs_background": "light"
          }
        }
      ]
    },
    {
      "cell_type": "code",
      "source": [
        "az_mean = np.mean(az)\n",
        "az_dev = np.std(az)\n",
        "list_az = np.ones((az.shape[0],1))*az_mean\n",
        "list_az_std1 = np.ones((az.shape[0],1))*az_dev+list_az\n",
        "list_az_std2 = -np.ones((az.shape[0],1))*az_dev+list_az"
      ],
      "metadata": {
        "id": "YxdurcLv3iVF"
      },
      "execution_count": 124,
      "outputs": []
    },
    {
      "cell_type": "code",
      "source": [
        "plt.plot(az)\n",
        "plt.plot(list_az, label='Mean_az')\n",
        "plt.plot(list_az_std1, label='+Std_az')\n",
        "plt.plot(list_az_std2, label='-Std_az')\n",
        "plt.xlabel('sequence')\n",
        "plt.ylabel('az')\n",
        "plt.title('Linear Acceleration z component')\n",
        "plt.legend()"
      ],
      "metadata": {
        "colab": {
          "base_uri": "https://localhost:8080/",
          "height": 312
        },
        "outputId": "b20c3ff7-c6a7-499d-870d-5ae48344c004",
        "id": "-a3TlgJt3iVG"
      },
      "execution_count": 125,
      "outputs": [
        {
          "output_type": "execute_result",
          "data": {
            "text/plain": [
              "<matplotlib.legend.Legend at 0x7f347f188c50>"
            ]
          },
          "metadata": {},
          "execution_count": 125
        },
        {
          "output_type": "display_data",
          "data": {
            "image/png": "[encoded data removed]",
            "text/plain": [
              "<Figure size 432x288 with 1 Axes>"
            ]
          },
          "metadata": {
            "needs_background": "light"
          }
        }
      ]
    },
    {
      "cell_type": "markdown",
      "source": [
        "Magnetometer"
      ],
      "metadata": {
        "id": "t1ySVakh4THY"
      }
    },
    {
      "cell_type": "code",
      "source": [
        "mx = df_mag['magnetic_field.x']\n",
        "my = df_mag['magnetic_field.y']\n",
        "mz = df_mag['magnetic_field.z']"
      ],
      "metadata": {
        "id": "m3uNEfEP4PuV"
      },
      "execution_count": 126,
      "outputs": []
    },
    {
      "cell_type": "code",
      "source": [
        "mx_mean = np.mean(mx)\n",
        "mx_dev = np.std(mx)\n",
        "list_mx = np.ones((mx.shape[0],1))*mx_mean\n",
        "list_mx_std1 = np.ones((mx.shape[0],1))*mx_dev+list_mx\n",
        "list_mx_std2 = -np.ones((mx.shape[0],1))*mx_dev+list_mx"
      ],
      "metadata": {
        "id": "rQag0eEF4w0a"
      },
      "execution_count": 127,
      "outputs": []
    },
    {
      "cell_type": "code",
      "source": [
        "plt.plot(mx)\n",
        "plt.plot(list_mx, label='Mean_mx')\n",
        "plt.plot(list_mx_std1, label='+Std_mx')\n",
        "plt.plot(list_mx_std2, label='-Std_mx')\n",
        "plt.xlabel('sequence')\n",
        "plt.ylabel('mx')\n",
        "plt.title('Magnetic Field x component')\n",
        "plt.legend()"
      ],
      "metadata": {
        "colab": {
          "base_uri": "https://localhost:8080/",
          "height": 312
        },
        "outputId": "e6f73942-5b09-4ebc-f323-e4f44a1d1f93",
        "id": "rw_uy83f4w0a"
      },
      "execution_count": 128,
      "outputs": [
        {
          "output_type": "execute_result",
          "data": {
            "text/plain": [
              "<matplotlib.legend.Legend at 0x7f3471bf90d0>"
            ]
          },
          "metadata": {},
          "execution_count": 128
        },
        {
          "output_type": "display_data",
          "data": {
            "image/png": "[encoded data removed]",
            "text/plain": [
              "<Figure size 432x288 with 1 Axes>"
            ]
          },
          "metadata": {
            "needs_background": "light"
          }
        }
      ]
    },
    {
      "cell_type": "code",
      "source": [
        "my_mean = np.mean(my)\n",
        "my_dev = np.std(my)\n",
        "list_my = np.ones((my.shape[0],1))*my_mean\n",
        "list_my_std1 = np.ones((my.shape[0],1))*my_dev+list_my\n",
        "list_my_std2 = -np.ones((my.shape[0],1))*my_dev+list_my"
      ],
      "metadata": {
        "id": "tOKaCBGY5NCr"
      },
      "execution_count": 129,
      "outputs": []
    },
    {
      "cell_type": "code",
      "source": [
        "plt.plot(my)\n",
        "plt.plot(list_my, label='Mean_my')\n",
        "plt.plot(list_my_std1, label='+Std_my')\n",
        "plt.plot(list_my_std2, label='-Std_my')\n",
        "plt.xlabel('sequence')\n",
        "plt.ylabel('my')\n",
        "plt.title('Magnetic Field y component')\n",
        "plt.legend()"
      ],
      "metadata": {
        "colab": {
          "base_uri": "https://localhost:8080/",
          "height": 312
        },
        "outputId": "cd1e0c14-d2e7-4ae4-e6e8-c89d58cf8042",
        "id": "itC8X7mi5NCs"
      },
      "execution_count": 130,
      "outputs": [
        {
          "output_type": "execute_result",
          "data": {
            "text/plain": [
              "<matplotlib.legend.Legend at 0x7f346a2a2390>"
            ]
          },
          "metadata": {},
          "execution_count": 130
        },
        {
          "output_type": "display_data",
          "data": {
            "image/png": "[encoded data removed]",
            "text/plain": [
              "<Figure size 432x288 with 1 Axes>"
            ]
          },
          "metadata": {
            "needs_background": "light"
          }
        }
      ]
    },
    {
      "cell_type": "code",
      "source": [
        "mz_mean = np.mean(mz)\n",
        "mz_dev = np.std(mz)\n",
        "list_mz = np.ones((mz.shape[0],1))*mz_mean\n",
        "list_mz_std1 = np.ones((mz.shape[0],1))*mz_dev+list_mz\n",
        "list_mz_std2 = -np.ones((mz.shape[0],1))*mz_dev+list_mz"
      ],
      "metadata": {
        "id": "W42ZdfC95N6h"
      },
      "execution_count": 131,
      "outputs": []
    },
    {
      "cell_type": "code",
      "source": [
        "plt.plot(mz)\n",
        "plt.plot(list_mz, label='Mean_mz')\n",
        "plt.plot(list_mz_std1, label='+Std_mz')\n",
        "plt.plot(list_mz_std2, label='-Std_mz')\n",
        "plt.xlabel('sequence')\n",
        "plt.ylabel('mz')\n",
        "plt.title('Magnetic Field z component')\n",
        "plt.legend()"
      ],
      "metadata": {
        "colab": {
          "base_uri": "https://localhost:8080/",
          "height": 312
        },
        "outputId": "bb64eb40-ef73-4d9e-d29b-f94ac9853c31",
        "id": "2O0Yox-t5N6i"
      },
      "execution_count": 132,
      "outputs": [
        {
          "output_type": "execute_result",
          "data": {
            "text/plain": [
              "<matplotlib.legend.Legend at 0x7f3471f9fa90>"
            ]
          },
          "metadata": {},
          "execution_count": 132
        },
        {
          "output_type": "display_data",
          "data": {
            "image/png": "[encoded data removed]",
            "text/plain": [
              "<Figure size 432x288 with 1 Axes>"
            ]
          },
          "metadata": {
            "needs_background": "light"
          }
        }
      ]
    },
    {
      "cell_type": "markdown",
      "source": [
        "# 5hr Data"
      ],
      "metadata": {
        "id": "IxU-oqPo6CxO"
      }
    },
    {
      "cell_type": "code",
      "source": [
        "imu_msg = bag5.message_by_topic('imu')\n",
        "mag_msg = bag5.message_by_topic('magnetometer')\n"
      ],
      "metadata": {
        "id": "0XlHAiXm6Fb4"
      },
      "execution_count": 200,
      "outputs": []
    },
    {
      "cell_type": "code",
      "source": [
        "df_imu = pd.read_csv(imu_msg)\n",
        "df_mag = pd.read_csv(mag_msg)"
      ],
      "metadata": {
        "id": "bmbvfhGX6Fb4"
      },
      "execution_count": 147,
      "outputs": []
    },
    {
      "cell_type": "code",
      "source": [
        "df_mag"
      ],
      "metadata": {
        "colab": {
          "base_uri": "https://localhost:8080/",
          "height": 488
        },
        "outputId": "64dca61e-4a8b-40a6-a6dc-039b822cc427",
        "id": "3WujhNHk6Fb4"
      },
      "execution_count": 148,
      "outputs": [
        {
          "output_type": "execute_result",
          "data": {
            "text/html": [
              "\n",
              "  <div id=\"df-57c368e0-38db-44ea-b4b7-bf5f96d92e96\">\n",
              "    <div class=\"colab-df-container\">\n",
              "      <div>\n",
              "<style scoped>\n",
              "    .dataframe tbody tr th:only-of-type {\n",
              "        vertical-align: middle;\n",
              "    }\n",
              "\n",
              "    .dataframe tbody tr th {\n",
              "        vertical-align: top;\n",
              "    }\n",
              "\n",
              "    .dataframe thead th {\n",
              "        text-align: right;\n",
              "    }\n",
              "</style>\n",
              "<table border=\"1\" class=\"dataframe\">\n",
              "  <thead>\n",
              "    <tr style=\"text-align: right;\">\n",
              "      <th></th>\n",
              "      <th>Time</th>\n",
              "      <th>header.seq</th>\n",
              "      <th>header.stamp.secs</th>\n",
              "      <th>header.stamp.nsecs</th>\n",
              "      <th>header.frame_id</th>\n",
              "      <th>magnetic_field.x</th>\n",
              "      <th>magnetic_field.y</th>\n",
              "      <th>magnetic_field.z</th>\n",
              "      <th>magnetic_field_covariance_0</th>\n",
              "      <th>magnetic_field_covariance_1</th>\n",
              "      <th>magnetic_field_covariance_2</th>\n",
              "      <th>magnetic_field_covariance_3</th>\n",
              "      <th>magnetic_field_covariance_4</th>\n",
              "      <th>magnetic_field_covariance_5</th>\n",
              "      <th>magnetic_field_covariance_6</th>\n",
              "      <th>magnetic_field_covariance_7</th>\n",
              "      <th>magnetic_field_covariance_8</th>\n",
              "    </tr>\n",
              "  </thead>\n",
              "  <tbody>\n",
              "    <tr>\n",
              "      <th>0</th>\n",
              "      <td>1.645941e+09</td>\n",
              "      <td>1</td>\n",
              "      <td>0</td>\n",
              "      <td>0</td>\n",
              "      <td>NaN</td>\n",
              "      <td>-0.000022</td>\n",
              "      <td>0.000012</td>\n",
              "      <td>0.000041</td>\n",
              "      <td>0.0</td>\n",
              "      <td>0.0</td>\n",
              "      <td>0.0</td>\n",
              "      <td>0.0</td>\n",
              "      <td>0.0</td>\n",
              "      <td>0.0</td>\n",
              "      <td>0.0</td>\n",
              "      <td>0.0</td>\n",
              "      <td>0.0</td>\n",
              "    </tr>\n",
              "    <tr>\n",
              "      <th>1</th>\n",
              "      <td>1.645941e+09</td>\n",
              "      <td>2</td>\n",
              "      <td>0</td>\n",
              "      <td>0</td>\n",
              "      <td>NaN</td>\n",
              "      <td>-0.000022</td>\n",
              "      <td>0.000012</td>\n",
              "      <td>0.000041</td>\n",
              "      <td>0.0</td>\n",
              "      <td>0.0</td>\n",
              "      <td>0.0</td>\n",
              "      <td>0.0</td>\n",
              "      <td>0.0</td>\n",
              "      <td>0.0</td>\n",
              "      <td>0.0</td>\n",
              "      <td>0.0</td>\n",
              "      <td>0.0</td>\n",
              "    </tr>\n",
              "    <tr>\n",
              "      <th>2</th>\n",
              "      <td>1.645941e+09</td>\n",
              "      <td>3</td>\n",
              "      <td>0</td>\n",
              "      <td>0</td>\n",
              "      <td>NaN</td>\n",
              "      <td>-0.000022</td>\n",
              "      <td>0.000012</td>\n",
              "      <td>0.000041</td>\n",
              "      <td>0.0</td>\n",
              "      <td>0.0</td>\n",
              "      <td>0.0</td>\n",
              "      <td>0.0</td>\n",
              "      <td>0.0</td>\n",
              "      <td>0.0</td>\n",
              "      <td>0.0</td>\n",
              "      <td>0.0</td>\n",
              "      <td>0.0</td>\n",
              "    </tr>\n",
              "    <tr>\n",
              "      <th>3</th>\n",
              "      <td>1.645941e+09</td>\n",
              "      <td>4</td>\n",
              "      <td>0</td>\n",
              "      <td>0</td>\n",
              "      <td>NaN</td>\n",
              "      <td>-0.000022</td>\n",
              "      <td>0.000012</td>\n",
              "      <td>0.000041</td>\n",
              "      <td>0.0</td>\n",
              "      <td>0.0</td>\n",
              "      <td>0.0</td>\n",
              "      <td>0.0</td>\n",
              "      <td>0.0</td>\n",
              "      <td>0.0</td>\n",
              "      <td>0.0</td>\n",
              "      <td>0.0</td>\n",
              "      <td>0.0</td>\n",
              "    </tr>\n",
              "    <tr>\n",
              "      <th>4</th>\n",
              "      <td>1.645941e+09</td>\n",
              "      <td>5</td>\n",
              "      <td>0</td>\n",
              "      <td>0</td>\n",
              "      <td>NaN</td>\n",
              "      <td>-0.000022</td>\n",
              "      <td>0.000012</td>\n",
              "      <td>0.000041</td>\n",
              "      <td>0.0</td>\n",
              "      <td>0.0</td>\n",
              "      <td>0.0</td>\n",
              "      <td>0.0</td>\n",
              "      <td>0.0</td>\n",
              "      <td>0.0</td>\n",
              "      <td>0.0</td>\n",
              "      <td>0.0</td>\n",
              "      <td>0.0</td>\n",
              "    </tr>\n",
              "    <tr>\n",
              "      <th>...</th>\n",
              "      <td>...</td>\n",
              "      <td>...</td>\n",
              "      <td>...</td>\n",
              "      <td>...</td>\n",
              "      <td>...</td>\n",
              "      <td>...</td>\n",
              "      <td>...</td>\n",
              "      <td>...</td>\n",
              "      <td>...</td>\n",
              "      <td>...</td>\n",
              "      <td>...</td>\n",
              "      <td>...</td>\n",
              "      <td>...</td>\n",
              "      <td>...</td>\n",
              "      <td>...</td>\n",
              "      <td>...</td>\n",
              "      <td>...</td>\n",
              "    </tr>\n",
              "    <tr>\n",
              "      <th>719987</th>\n",
              "      <td>1.645959e+09</td>\n",
              "      <td>719988</td>\n",
              "      <td>0</td>\n",
              "      <td>0</td>\n",
              "      <td>NaN</td>\n",
              "      <td>-0.000022</td>\n",
              "      <td>0.000013</td>\n",
              "      <td>0.000041</td>\n",
              "      <td>0.0</td>\n",
              "      <td>0.0</td>\n",
              "      <td>0.0</td>\n",
              "      <td>0.0</td>\n",
              "      <td>0.0</td>\n",
              "      <td>0.0</td>\n",
              "      <td>0.0</td>\n",
              "      <td>0.0</td>\n",
              "      <td>0.0</td>\n",
              "    </tr>\n",
              "    <tr>\n",
              "      <th>719988</th>\n",
              "      <td>1.645959e+09</td>\n",
              "      <td>719989</td>\n",
              "      <td>0</td>\n",
              "      <td>0</td>\n",
              "      <td>NaN</td>\n",
              "      <td>-0.000022</td>\n",
              "      <td>0.000013</td>\n",
              "      <td>0.000042</td>\n",
              "      <td>0.0</td>\n",
              "      <td>0.0</td>\n",
              "      <td>0.0</td>\n",
              "      <td>0.0</td>\n",
              "      <td>0.0</td>\n",
              "      <td>0.0</td>\n",
              "      <td>0.0</td>\n",
              "      <td>0.0</td>\n",
              "      <td>0.0</td>\n",
              "    </tr>\n",
              "    <tr>\n",
              "      <th>719989</th>\n",
              "      <td>1.645959e+09</td>\n",
              "      <td>719990</td>\n",
              "      <td>0</td>\n",
              "      <td>0</td>\n",
              "      <td>NaN</td>\n",
              "      <td>-0.000023</td>\n",
              "      <td>0.000012</td>\n",
              "      <td>0.000041</td>\n",
              "      <td>0.0</td>\n",
              "      <td>0.0</td>\n",
              "      <td>0.0</td>\n",
              "      <td>0.0</td>\n",
              "      <td>0.0</td>\n",
              "      <td>0.0</td>\n",
              "      <td>0.0</td>\n",
              "      <td>0.0</td>\n",
              "      <td>0.0</td>\n",
              "    </tr>\n",
              "    <tr>\n",
              "      <th>719990</th>\n",
              "      <td>1.645959e+09</td>\n",
              "      <td>719991</td>\n",
              "      <td>0</td>\n",
              "      <td>0</td>\n",
              "      <td>NaN</td>\n",
              "      <td>-0.000022</td>\n",
              "      <td>0.000013</td>\n",
              "      <td>0.000041</td>\n",
              "      <td>0.0</td>\n",
              "      <td>0.0</td>\n",
              "      <td>0.0</td>\n",
              "      <td>0.0</td>\n",
              "      <td>0.0</td>\n",
              "      <td>0.0</td>\n",
              "      <td>0.0</td>\n",
              "      <td>0.0</td>\n",
              "      <td>0.0</td>\n",
              "    </tr>\n",
              "    <tr>\n",
              "      <th>719991</th>\n",
              "      <td>1.645959e+09</td>\n",
              "      <td>719992</td>\n",
              "      <td>0</td>\n",
              "      <td>0</td>\n",
              "      <td>NaN</td>\n",
              "      <td>-0.000022</td>\n",
              "      <td>0.000013</td>\n",
              "      <td>0.000041</td>\n",
              "      <td>0.0</td>\n",
              "      <td>0.0</td>\n",
              "      <td>0.0</td>\n",
              "      <td>0.0</td>\n",
              "      <td>0.0</td>\n",
              "      <td>0.0</td>\n",
              "      <td>0.0</td>\n",
              "      <td>0.0</td>\n",
              "      <td>0.0</td>\n",
              "    </tr>\n",
              "  </tbody>\n",
              "</table>\n",
              "<p>719992 rows × 17 columns</p>\n",
              "</div>\n",
              "      <button class=\"colab-df-convert\" onclick=\"convertToInteractive('df-57c368e0-38db-44ea-b4b7-bf5f96d92e96')\"\n",
              "              title=\"Convert this dataframe to an interactive table.\"\n",
              "              style=\"display:none;\">\n",
              "        \n",
              "  <svg xmlns=\"http://www.w3.org/2000/svg\" height=\"24px\"viewBox=\"0 0 24 24\"\n",
              "       width=\"24px\">\n",
              "    <path d=\"M0 0h24v24H0V0z\" fill=\"none\"/>\n",
              "    <path d=\"M18.56 5.44l.94 2.06.94-2.06 2.06-.94-2.06-.94-.94-2.06-.94 2.06-2.06.94zm-11 1L8.5 8.5l.94-2.06 2.06-.94-2.06-.94L8.5 2.5l-.94 2.06-2.06.94zm10 10l.94 2.06.94-2.06 2.06-.94-2.06-.94-.94-2.06-.94 2.06-2.06.94z\"/><path d=\"M17.41 7.96l-1.37-1.37c-.4-.4-.92-.59-1.43-.59-.52 0-1.04.2-1.43.59L10.3 9.45l-7.72 7.72c-.78.78-.78 2.05 0 2.83L4 21.41c.39.39.9.59 1.41.59.51 0 1.02-.2 1.41-.59l7.78-7.78 2.81-2.81c.8-.78.8-2.07 0-2.86zM5.41 20L4 18.59l7.72-7.72 1.47 1.35L5.41 20z\"/>\n",
              "  </svg>\n",
              "      </button>\n",
              "      \n",
              "  <style>\n",
              "    .colab-df-container {\n",
              "      display:flex;\n",
              "      flex-wrap:wrap;\n",
              "      gap: 12px;\n",
              "    }\n",
              "\n",
              "    .colab-df-convert {\n",
              "      background-color: #E8F0FE;\n",
              "      border: none;\n",
              "      border-radius: 50%;\n",
              "      cursor: pointer;\n",
              "      display: none;\n",
              "      fill: #1967D2;\n",
              "      height: 32px;\n",
              "      padding: 0 0 0 0;\n",
              "      width: 32px;\n",
              "    }\n",
              "\n",
              "    .colab-df-convert:hover {\n",
              "      background-color: #E2EBFA;\n",
              "      box-shadow: 0px 1px 2px rgba(60, 64, 67, 0.3), 0px 1px 3px 1px rgba(60, 64, 67, 0.15);\n",
              "      fill: #174EA6;\n",
              "    }\n",
              "\n",
              "    [theme=dark] .colab-df-convert {\n",
              "      background-color: #3B4455;\n",
              "      fill: #D2E3FC;\n",
              "    }\n",
              "\n",
              "    [theme=dark] .colab-df-convert:hover {\n",
              "      background-color: #434B5C;\n",
              "      box-shadow: 0px 1px 3px 1px rgba(0, 0, 0, 0.15);\n",
              "      filter: drop-shadow(0px 1px 2px rgba(0, 0, 0, 0.3));\n",
              "      fill: #FFFFFF;\n",
              "    }\n",
              "  </style>\n",
              "\n",
              "      <script>\n",
              "        const buttonEl =\n",
              "          document.querySelector('#df-57c368e0-38db-44ea-b4b7-bf5f96d92e96 button.colab-df-convert');\n",
              "        buttonEl.style.display =\n",
              "          google.colab.kernel.accessAllowed ? 'block' : 'none';\n",
              "\n",
              "        async function convertToInteractive(key) {\n",
              "          const element = document.querySelector('#df-57c368e0-38db-44ea-b4b7-bf5f96d92e96');\n",
              "          const dataTable =\n",
              "            await google.colab.kernel.invokeFunction('convertToInteractive',\n",
              "                                                     [key], {});\n",
              "          if (!dataTable) return;\n",
              "\n",
              "          const docLinkHtml = 'Like what you see? Visit the ' +\n",
              "            '<a target=\"_blank\" href=https://colab.research.google.com/notebooks/data_table.ipynb>data table notebook</a>'\n",
              "            + ' to learn more about interactive tables.';\n",
              "          element.innerHTML = '';\n",
              "          dataTable['output_type'] = 'display_data';\n",
              "          await google.colab.output.renderOutput(dataTable, element);\n",
              "          const docLink = document.createElement('div');\n",
              "          docLink.innerHTML = docLinkHtml;\n",
              "          element.appendChild(docLink);\n",
              "        }\n",
              "      </script>\n",
              "    </div>\n",
              "  </div>\n",
              "  "
            ],
            "text/plain": [
              "                Time  ...  magnetic_field_covariance_8\n",
              "0       1.645941e+09  ...                          0.0\n",
              "1       1.645941e+09  ...                          0.0\n",
              "2       1.645941e+09  ...                          0.0\n",
              "3       1.645941e+09  ...                          0.0\n",
              "4       1.645941e+09  ...                          0.0\n",
              "...              ...  ...                          ...\n",
              "719987  1.645959e+09  ...                          0.0\n",
              "719988  1.645959e+09  ...                          0.0\n",
              "719989  1.645959e+09  ...                          0.0\n",
              "719990  1.645959e+09  ...                          0.0\n",
              "719991  1.645959e+09  ...                          0.0\n",
              "\n",
              "[719992 rows x 17 columns]"
            ]
          },
          "metadata": {},
          "execution_count": 148
        }
      ]
    },
    {
      "cell_type": "code",
      "source": [
        "df_imu"
      ],
      "metadata": {
        "colab": {
          "base_uri": "https://localhost:8080/",
          "height": 488
        },
        "outputId": "3730e658-dd33-424c-895b-e5497ae04605",
        "id": "pc6MZYvg6Fb4"
      },
      "execution_count": 149,
      "outputs": [
        {
          "output_type": "execute_result",
          "data": {
            "text/html": [
              "\n",
              "  <div id=\"df-a546f792-c2f0-4585-b95d-3de89429b97e\">\n",
              "    <div class=\"colab-df-container\">\n",
              "      <div>\n",
              "<style scoped>\n",
              "    .dataframe tbody tr th:only-of-type {\n",
              "        vertical-align: middle;\n",
              "    }\n",
              "\n",
              "    .dataframe tbody tr th {\n",
              "        vertical-align: top;\n",
              "    }\n",
              "\n",
              "    .dataframe thead th {\n",
              "        text-align: right;\n",
              "    }\n",
              "</style>\n",
              "<table border=\"1\" class=\"dataframe\">\n",
              "  <thead>\n",
              "    <tr style=\"text-align: right;\">\n",
              "      <th></th>\n",
              "      <th>Time</th>\n",
              "      <th>header.seq</th>\n",
              "      <th>header.stamp.secs</th>\n",
              "      <th>header.stamp.nsecs</th>\n",
              "      <th>header.frame_id</th>\n",
              "      <th>orientation.x</th>\n",
              "      <th>orientation.y</th>\n",
              "      <th>orientation.z</th>\n",
              "      <th>orientation.w</th>\n",
              "      <th>orientation_covariance_0</th>\n",
              "      <th>orientation_covariance_1</th>\n",
              "      <th>orientation_covariance_2</th>\n",
              "      <th>orientation_covariance_3</th>\n",
              "      <th>orientation_covariance_4</th>\n",
              "      <th>orientation_covariance_5</th>\n",
              "      <th>orientation_covariance_6</th>\n",
              "      <th>orientation_covariance_7</th>\n",
              "      <th>orientation_covariance_8</th>\n",
              "      <th>angular_velocity.x</th>\n",
              "      <th>angular_velocity.y</th>\n",
              "      <th>angular_velocity.z</th>\n",
              "      <th>angular_velocity_covariance_0</th>\n",
              "      <th>angular_velocity_covariance_1</th>\n",
              "      <th>angular_velocity_covariance_2</th>\n",
              "      <th>angular_velocity_covariance_3</th>\n",
              "      <th>angular_velocity_covariance_4</th>\n",
              "      <th>angular_velocity_covariance_5</th>\n",
              "      <th>angular_velocity_covariance_6</th>\n",
              "      <th>angular_velocity_covariance_7</th>\n",
              "      <th>angular_velocity_covariance_8</th>\n",
              "      <th>linear_acceleration.x</th>\n",
              "      <th>linear_acceleration.y</th>\n",
              "      <th>linear_acceleration.z</th>\n",
              "      <th>linear_acceleration_covariance_0</th>\n",
              "      <th>linear_acceleration_covariance_1</th>\n",
              "      <th>linear_acceleration_covariance_2</th>\n",
              "      <th>linear_acceleration_covariance_3</th>\n",
              "      <th>linear_acceleration_covariance_4</th>\n",
              "      <th>linear_acceleration_covariance_5</th>\n",
              "      <th>linear_acceleration_covariance_6</th>\n",
              "      <th>linear_acceleration_covariance_7</th>\n",
              "      <th>linear_acceleration_covariance_8</th>\n",
              "    </tr>\n",
              "  </thead>\n",
              "  <tbody>\n",
              "    <tr>\n",
              "      <th>0</th>\n",
              "      <td>1.645941e+09</td>\n",
              "      <td>2868</td>\n",
              "      <td>0</td>\n",
              "      <td>0</td>\n",
              "      <td>NaN</td>\n",
              "      <td>-0.008637</td>\n",
              "      <td>0.007671</td>\n",
              "      <td>0.919045</td>\n",
              "      <td>0.393985</td>\n",
              "      <td>0.0</td>\n",
              "      <td>0.0</td>\n",
              "      <td>0.0</td>\n",
              "      <td>0.0</td>\n",
              "      <td>0.0</td>\n",
              "      <td>0.0</td>\n",
              "      <td>0.0</td>\n",
              "      <td>0.0</td>\n",
              "      <td>0.0</td>\n",
              "      <td>-0.000154</td>\n",
              "      <td>0.000552</td>\n",
              "      <td>0.001327</td>\n",
              "      <td>0.0</td>\n",
              "      <td>0.0</td>\n",
              "      <td>0.0</td>\n",
              "      <td>0.0</td>\n",
              "      <td>0.0</td>\n",
              "      <td>0.0</td>\n",
              "      <td>0.0</td>\n",
              "      <td>0.0</td>\n",
              "      <td>0.0</td>\n",
              "      <td>0.190</td>\n",
              "      <td>-0.077</td>\n",
              "      <td>-9.745</td>\n",
              "      <td>0.0</td>\n",
              "      <td>0.0</td>\n",
              "      <td>0.0</td>\n",
              "      <td>0.0</td>\n",
              "      <td>0.0</td>\n",
              "      <td>0.0</td>\n",
              "      <td>0.0</td>\n",
              "      <td>0.0</td>\n",
              "      <td>0.0</td>\n",
              "    </tr>\n",
              "    <tr>\n",
              "      <th>1</th>\n",
              "      <td>1.645941e+09</td>\n",
              "      <td>2869</td>\n",
              "      <td>0</td>\n",
              "      <td>0</td>\n",
              "      <td>NaN</td>\n",
              "      <td>-0.008637</td>\n",
              "      <td>0.007670</td>\n",
              "      <td>0.919055</td>\n",
              "      <td>0.393960</td>\n",
              "      <td>0.0</td>\n",
              "      <td>0.0</td>\n",
              "      <td>0.0</td>\n",
              "      <td>0.0</td>\n",
              "      <td>0.0</td>\n",
              "      <td>0.0</td>\n",
              "      <td>0.0</td>\n",
              "      <td>0.0</td>\n",
              "      <td>0.0</td>\n",
              "      <td>-0.000112</td>\n",
              "      <td>0.000639</td>\n",
              "      <td>0.000157</td>\n",
              "      <td>0.0</td>\n",
              "      <td>0.0</td>\n",
              "      <td>0.0</td>\n",
              "      <td>0.0</td>\n",
              "      <td>0.0</td>\n",
              "      <td>0.0</td>\n",
              "      <td>0.0</td>\n",
              "      <td>0.0</td>\n",
              "      <td>0.0</td>\n",
              "      <td>0.216</td>\n",
              "      <td>-0.090</td>\n",
              "      <td>-9.718</td>\n",
              "      <td>0.0</td>\n",
              "      <td>0.0</td>\n",
              "      <td>0.0</td>\n",
              "      <td>0.0</td>\n",
              "      <td>0.0</td>\n",
              "      <td>0.0</td>\n",
              "      <td>0.0</td>\n",
              "      <td>0.0</td>\n",
              "      <td>0.0</td>\n",
              "    </tr>\n",
              "    <tr>\n",
              "      <th>2</th>\n",
              "      <td>1.645941e+09</td>\n",
              "      <td>2870</td>\n",
              "      <td>0</td>\n",
              "      <td>0</td>\n",
              "      <td>NaN</td>\n",
              "      <td>-0.008629</td>\n",
              "      <td>0.007667</td>\n",
              "      <td>0.919052</td>\n",
              "      <td>0.393968</td>\n",
              "      <td>0.0</td>\n",
              "      <td>0.0</td>\n",
              "      <td>0.0</td>\n",
              "      <td>0.0</td>\n",
              "      <td>0.0</td>\n",
              "      <td>0.0</td>\n",
              "      <td>0.0</td>\n",
              "      <td>0.0</td>\n",
              "      <td>0.0</td>\n",
              "      <td>0.000549</td>\n",
              "      <td>-0.001033</td>\n",
              "      <td>-0.000852</td>\n",
              "      <td>0.0</td>\n",
              "      <td>0.0</td>\n",
              "      <td>0.0</td>\n",
              "      <td>0.0</td>\n",
              "      <td>0.0</td>\n",
              "      <td>0.0</td>\n",
              "      <td>0.0</td>\n",
              "      <td>0.0</td>\n",
              "      <td>0.0</td>\n",
              "      <td>0.202</td>\n",
              "      <td>-0.060</td>\n",
              "      <td>-9.752</td>\n",
              "      <td>0.0</td>\n",
              "      <td>0.0</td>\n",
              "      <td>0.0</td>\n",
              "      <td>0.0</td>\n",
              "      <td>0.0</td>\n",
              "      <td>0.0</td>\n",
              "      <td>0.0</td>\n",
              "      <td>0.0</td>\n",
              "      <td>0.0</td>\n",
              "    </tr>\n",
              "    <tr>\n",
              "      <th>3</th>\n",
              "      <td>1.645941e+09</td>\n",
              "      <td>2871</td>\n",
              "      <td>0</td>\n",
              "      <td>0</td>\n",
              "      <td>NaN</td>\n",
              "      <td>-0.008637</td>\n",
              "      <td>0.007671</td>\n",
              "      <td>0.919045</td>\n",
              "      <td>0.393985</td>\n",
              "      <td>0.0</td>\n",
              "      <td>0.0</td>\n",
              "      <td>0.0</td>\n",
              "      <td>0.0</td>\n",
              "      <td>0.0</td>\n",
              "      <td>0.0</td>\n",
              "      <td>0.0</td>\n",
              "      <td>0.0</td>\n",
              "      <td>0.0</td>\n",
              "      <td>-0.000234</td>\n",
              "      <td>-0.000104</td>\n",
              "      <td>0.000115</td>\n",
              "      <td>0.0</td>\n",
              "      <td>0.0</td>\n",
              "      <td>0.0</td>\n",
              "      <td>0.0</td>\n",
              "      <td>0.0</td>\n",
              "      <td>0.0</td>\n",
              "      <td>0.0</td>\n",
              "      <td>0.0</td>\n",
              "      <td>0.0</td>\n",
              "      <td>0.209</td>\n",
              "      <td>-0.050</td>\n",
              "      <td>-9.762</td>\n",
              "      <td>0.0</td>\n",
              "      <td>0.0</td>\n",
              "      <td>0.0</td>\n",
              "      <td>0.0</td>\n",
              "      <td>0.0</td>\n",
              "      <td>0.0</td>\n",
              "      <td>0.0</td>\n",
              "      <td>0.0</td>\n",
              "      <td>0.0</td>\n",
              "    </tr>\n",
              "    <tr>\n",
              "      <th>4</th>\n",
              "      <td>1.645941e+09</td>\n",
              "      <td>2872</td>\n",
              "      <td>0</td>\n",
              "      <td>0</td>\n",
              "      <td>NaN</td>\n",
              "      <td>-0.008645</td>\n",
              "      <td>0.007674</td>\n",
              "      <td>0.919034</td>\n",
              "      <td>0.394008</td>\n",
              "      <td>0.0</td>\n",
              "      <td>0.0</td>\n",
              "      <td>0.0</td>\n",
              "      <td>0.0</td>\n",
              "      <td>0.0</td>\n",
              "      <td>0.0</td>\n",
              "      <td>0.0</td>\n",
              "      <td>0.0</td>\n",
              "      <td>0.0</td>\n",
              "      <td>0.000802</td>\n",
              "      <td>0.000063</td>\n",
              "      <td>0.000385</td>\n",
              "      <td>0.0</td>\n",
              "      <td>0.0</td>\n",
              "      <td>0.0</td>\n",
              "      <td>0.0</td>\n",
              "      <td>0.0</td>\n",
              "      <td>0.0</td>\n",
              "      <td>0.0</td>\n",
              "      <td>0.0</td>\n",
              "      <td>0.0</td>\n",
              "      <td>0.200</td>\n",
              "      <td>-0.082</td>\n",
              "      <td>-9.791</td>\n",
              "      <td>0.0</td>\n",
              "      <td>0.0</td>\n",
              "      <td>0.0</td>\n",
              "      <td>0.0</td>\n",
              "      <td>0.0</td>\n",
              "      <td>0.0</td>\n",
              "      <td>0.0</td>\n",
              "      <td>0.0</td>\n",
              "      <td>0.0</td>\n",
              "    </tr>\n",
              "    <tr>\n",
              "      <th>...</th>\n",
              "      <td>...</td>\n",
              "      <td>...</td>\n",
              "      <td>...</td>\n",
              "      <td>...</td>\n",
              "      <td>...</td>\n",
              "      <td>...</td>\n",
              "      <td>...</td>\n",
              "      <td>...</td>\n",
              "      <td>...</td>\n",
              "      <td>...</td>\n",
              "      <td>...</td>\n",
              "      <td>...</td>\n",
              "      <td>...</td>\n",
              "      <td>...</td>\n",
              "      <td>...</td>\n",
              "      <td>...</td>\n",
              "      <td>...</td>\n",
              "      <td>...</td>\n",
              "      <td>...</td>\n",
              "      <td>...</td>\n",
              "      <td>...</td>\n",
              "      <td>...</td>\n",
              "      <td>...</td>\n",
              "      <td>...</td>\n",
              "      <td>...</td>\n",
              "      <td>...</td>\n",
              "      <td>...</td>\n",
              "      <td>...</td>\n",
              "      <td>...</td>\n",
              "      <td>...</td>\n",
              "      <td>...</td>\n",
              "      <td>...</td>\n",
              "      <td>...</td>\n",
              "      <td>...</td>\n",
              "      <td>...</td>\n",
              "      <td>...</td>\n",
              "      <td>...</td>\n",
              "      <td>...</td>\n",
              "      <td>...</td>\n",
              "      <td>...</td>\n",
              "      <td>...</td>\n",
              "      <td>...</td>\n",
              "    </tr>\n",
              "    <tr>\n",
              "      <th>719987</th>\n",
              "      <td>1.645959e+09</td>\n",
              "      <td>722855</td>\n",
              "      <td>0</td>\n",
              "      <td>0</td>\n",
              "      <td>NaN</td>\n",
              "      <td>-0.006136</td>\n",
              "      <td>0.019693</td>\n",
              "      <td>0.918750</td>\n",
              "      <td>0.394300</td>\n",
              "      <td>0.0</td>\n",
              "      <td>0.0</td>\n",
              "      <td>0.0</td>\n",
              "      <td>0.0</td>\n",
              "      <td>0.0</td>\n",
              "      <td>0.0</td>\n",
              "      <td>0.0</td>\n",
              "      <td>0.0</td>\n",
              "      <td>0.0</td>\n",
              "      <td>-0.000203</td>\n",
              "      <td>-0.001052</td>\n",
              "      <td>-0.000301</td>\n",
              "      <td>0.0</td>\n",
              "      <td>0.0</td>\n",
              "      <td>0.0</td>\n",
              "      <td>0.0</td>\n",
              "      <td>0.0</td>\n",
              "      <td>0.0</td>\n",
              "      <td>0.0</td>\n",
              "      <td>0.0</td>\n",
              "      <td>0.0</td>\n",
              "      <td>0.247</td>\n",
              "      <td>-0.301</td>\n",
              "      <td>-9.739</td>\n",
              "      <td>0.0</td>\n",
              "      <td>0.0</td>\n",
              "      <td>0.0</td>\n",
              "      <td>0.0</td>\n",
              "      <td>0.0</td>\n",
              "      <td>0.0</td>\n",
              "      <td>0.0</td>\n",
              "      <td>0.0</td>\n",
              "      <td>0.0</td>\n",
              "    </tr>\n",
              "    <tr>\n",
              "      <th>719988</th>\n",
              "      <td>1.645959e+09</td>\n",
              "      <td>722856</td>\n",
              "      <td>0</td>\n",
              "      <td>0</td>\n",
              "      <td>NaN</td>\n",
              "      <td>-0.006128</td>\n",
              "      <td>0.019690</td>\n",
              "      <td>0.918754</td>\n",
              "      <td>0.394292</td>\n",
              "      <td>0.0</td>\n",
              "      <td>0.0</td>\n",
              "      <td>0.0</td>\n",
              "      <td>0.0</td>\n",
              "      <td>0.0</td>\n",
              "      <td>0.0</td>\n",
              "      <td>0.0</td>\n",
              "      <td>0.0</td>\n",
              "      <td>0.0</td>\n",
              "      <td>0.000661</td>\n",
              "      <td>-0.000303</td>\n",
              "      <td>0.000603</td>\n",
              "      <td>0.0</td>\n",
              "      <td>0.0</td>\n",
              "      <td>0.0</td>\n",
              "      <td>0.0</td>\n",
              "      <td>0.0</td>\n",
              "      <td>0.0</td>\n",
              "      <td>0.0</td>\n",
              "      <td>0.0</td>\n",
              "      <td>0.0</td>\n",
              "      <td>0.246</td>\n",
              "      <td>-0.308</td>\n",
              "      <td>-9.744</td>\n",
              "      <td>0.0</td>\n",
              "      <td>0.0</td>\n",
              "      <td>0.0</td>\n",
              "      <td>0.0</td>\n",
              "      <td>0.0</td>\n",
              "      <td>0.0</td>\n",
              "      <td>0.0</td>\n",
              "      <td>0.0</td>\n",
              "      <td>0.0</td>\n",
              "    </tr>\n",
              "    <tr>\n",
              "      <th>719989</th>\n",
              "      <td>1.645959e+09</td>\n",
              "      <td>722857</td>\n",
              "      <td>0</td>\n",
              "      <td>0</td>\n",
              "      <td>NaN</td>\n",
              "      <td>-0.006124</td>\n",
              "      <td>0.019678</td>\n",
              "      <td>0.918758</td>\n",
              "      <td>0.394284</td>\n",
              "      <td>0.0</td>\n",
              "      <td>0.0</td>\n",
              "      <td>0.0</td>\n",
              "      <td>0.0</td>\n",
              "      <td>0.0</td>\n",
              "      <td>0.0</td>\n",
              "      <td>0.0</td>\n",
              "      <td>0.0</td>\n",
              "      <td>0.0</td>\n",
              "      <td>-0.000429</td>\n",
              "      <td>-0.001183</td>\n",
              "      <td>-0.000729</td>\n",
              "      <td>0.0</td>\n",
              "      <td>0.0</td>\n",
              "      <td>0.0</td>\n",
              "      <td>0.0</td>\n",
              "      <td>0.0</td>\n",
              "      <td>0.0</td>\n",
              "      <td>0.0</td>\n",
              "      <td>0.0</td>\n",
              "      <td>0.0</td>\n",
              "      <td>0.258</td>\n",
              "      <td>-0.309</td>\n",
              "      <td>-9.753</td>\n",
              "      <td>0.0</td>\n",
              "      <td>0.0</td>\n",
              "      <td>0.0</td>\n",
              "      <td>0.0</td>\n",
              "      <td>0.0</td>\n",
              "      <td>0.0</td>\n",
              "      <td>0.0</td>\n",
              "      <td>0.0</td>\n",
              "      <td>0.0</td>\n",
              "    </tr>\n",
              "    <tr>\n",
              "      <th>719990</th>\n",
              "      <td>1.645959e+09</td>\n",
              "      <td>722858</td>\n",
              "      <td>0</td>\n",
              "      <td>0</td>\n",
              "      <td>NaN</td>\n",
              "      <td>-0.006116</td>\n",
              "      <td>0.019694</td>\n",
              "      <td>0.918747</td>\n",
              "      <td>0.394308</td>\n",
              "      <td>0.0</td>\n",
              "      <td>0.0</td>\n",
              "      <td>0.0</td>\n",
              "      <td>0.0</td>\n",
              "      <td>0.0</td>\n",
              "      <td>0.0</td>\n",
              "      <td>0.0</td>\n",
              "      <td>0.0</td>\n",
              "      <td>0.0</td>\n",
              "      <td>0.000835</td>\n",
              "      <td>0.000367</td>\n",
              "      <td>-0.000299</td>\n",
              "      <td>0.0</td>\n",
              "      <td>0.0</td>\n",
              "      <td>0.0</td>\n",
              "      <td>0.0</td>\n",
              "      <td>0.0</td>\n",
              "      <td>0.0</td>\n",
              "      <td>0.0</td>\n",
              "      <td>0.0</td>\n",
              "      <td>0.0</td>\n",
              "      <td>0.257</td>\n",
              "      <td>-0.290</td>\n",
              "      <td>-9.760</td>\n",
              "      <td>0.0</td>\n",
              "      <td>0.0</td>\n",
              "      <td>0.0</td>\n",
              "      <td>0.0</td>\n",
              "      <td>0.0</td>\n",
              "      <td>0.0</td>\n",
              "      <td>0.0</td>\n",
              "      <td>0.0</td>\n",
              "      <td>0.0</td>\n",
              "    </tr>\n",
              "    <tr>\n",
              "      <th>719991</th>\n",
              "      <td>1.645959e+09</td>\n",
              "      <td>722859</td>\n",
              "      <td>0</td>\n",
              "      <td>0</td>\n",
              "      <td>NaN</td>\n",
              "      <td>-0.006120</td>\n",
              "      <td>0.019686</td>\n",
              "      <td>0.918747</td>\n",
              "      <td>0.394308</td>\n",
              "      <td>0.0</td>\n",
              "      <td>0.0</td>\n",
              "      <td>0.0</td>\n",
              "      <td>0.0</td>\n",
              "      <td>0.0</td>\n",
              "      <td>0.0</td>\n",
              "      <td>0.0</td>\n",
              "      <td>0.0</td>\n",
              "      <td>0.0</td>\n",
              "      <td>0.000369</td>\n",
              "      <td>-0.000413</td>\n",
              "      <td>-0.001067</td>\n",
              "      <td>0.0</td>\n",
              "      <td>0.0</td>\n",
              "      <td>0.0</td>\n",
              "      <td>0.0</td>\n",
              "      <td>0.0</td>\n",
              "      <td>0.0</td>\n",
              "      <td>0.0</td>\n",
              "      <td>0.0</td>\n",
              "      <td>0.0</td>\n",
              "      <td>0.250</td>\n",
              "      <td>-0.305</td>\n",
              "      <td>-9.745</td>\n",
              "      <td>0.0</td>\n",
              "      <td>0.0</td>\n",
              "      <td>0.0</td>\n",
              "      <td>0.0</td>\n",
              "      <td>0.0</td>\n",
              "      <td>0.0</td>\n",
              "      <td>0.0</td>\n",
              "      <td>0.0</td>\n",
              "      <td>0.0</td>\n",
              "    </tr>\n",
              "  </tbody>\n",
              "</table>\n",
              "<p>719992 rows × 42 columns</p>\n",
              "</div>\n",
              "      <button class=\"colab-df-convert\" onclick=\"convertToInteractive('df-a546f792-c2f0-4585-b95d-3de89429b97e')\"\n",
              "              title=\"Convert this dataframe to an interactive table.\"\n",
              "              style=\"display:none;\">\n",
              "        \n",
              "  <svg xmlns=\"http://www.w3.org/2000/svg\" height=\"24px\"viewBox=\"0 0 24 24\"\n",
              "       width=\"24px\">\n",
              "    <path d=\"M0 0h24v24H0V0z\" fill=\"none\"/>\n",
              "    <path d=\"M18.56 5.44l.94 2.06.94-2.06 2.06-.94-2.06-.94-.94-2.06-.94 2.06-2.06.94zm-11 1L8.5 8.5l.94-2.06 2.06-.94-2.06-.94L8.5 2.5l-.94 2.06-2.06.94zm10 10l.94 2.06.94-2.06 2.06-.94-2.06-.94-.94-2.06-.94 2.06-2.06.94z\"/><path d=\"M17.41 7.96l-1.37-1.37c-.4-.4-.92-.59-1.43-.59-.52 0-1.04.2-1.43.59L10.3 9.45l-7.72 7.72c-.78.78-.78 2.05 0 2.83L4 21.41c.39.39.9.59 1.41.59.51 0 1.02-.2 1.41-.59l7.78-7.78 2.81-2.81c.8-.78.8-2.07 0-2.86zM5.41 20L4 18.59l7.72-7.72 1.47 1.35L5.41 20z\"/>\n",
              "  </svg>\n",
              "      </button>\n",
              "      \n",
              "  <style>\n",
              "    .colab-df-container {\n",
              "      display:flex;\n",
              "      flex-wrap:wrap;\n",
              "      gap: 12px;\n",
              "    }\n",
              "\n",
              "    .colab-df-convert {\n",
              "      background-color: #E8F0FE;\n",
              "      border: none;\n",
              "      border-radius: 50%;\n",
              "      cursor: pointer;\n",
              "      display: none;\n",
              "      fill: #1967D2;\n",
              "      height: 32px;\n",
              "      padding: 0 0 0 0;\n",
              "      width: 32px;\n",
              "    }\n",
              "\n",
              "    .colab-df-convert:hover {\n",
              "      background-color: #E2EBFA;\n",
              "      box-shadow: 0px 1px 2px rgba(60, 64, 67, 0.3), 0px 1px 3px 1px rgba(60, 64, 67, 0.15);\n",
              "      fill: #174EA6;\n",
              "    }\n",
              "\n",
              "    [theme=dark] .colab-df-convert {\n",
              "      background-color: #3B4455;\n",
              "      fill: #D2E3FC;\n",
              "    }\n",
              "\n",
              "    [theme=dark] .colab-df-convert:hover {\n",
              "      background-color: #434B5C;\n",
              "      box-shadow: 0px 1px 3px 1px rgba(0, 0, 0, 0.15);\n",
              "      filter: drop-shadow(0px 1px 2px rgba(0, 0, 0, 0.3));\n",
              "      fill: #FFFFFF;\n",
              "    }\n",
              "  </style>\n",
              "\n",
              "      <script>\n",
              "        const buttonEl =\n",
              "          document.querySelector('#df-a546f792-c2f0-4585-b95d-3de89429b97e button.colab-df-convert');\n",
              "        buttonEl.style.display =\n",
              "          google.colab.kernel.accessAllowed ? 'block' : 'none';\n",
              "\n",
              "        async function convertToInteractive(key) {\n",
              "          const element = document.querySelector('#df-a546f792-c2f0-4585-b95d-3de89429b97e');\n",
              "          const dataTable =\n",
              "            await google.colab.kernel.invokeFunction('convertToInteractive',\n",
              "                                                     [key], {});\n",
              "          if (!dataTable) return;\n",
              "\n",
              "          const docLinkHtml = 'Like what you see? Visit the ' +\n",
              "            '<a target=\"_blank\" href=https://colab.research.google.com/notebooks/data_table.ipynb>data table notebook</a>'\n",
              "            + ' to learn more about interactive tables.';\n",
              "          element.innerHTML = '';\n",
              "          dataTable['output_type'] = 'display_data';\n",
              "          await google.colab.output.renderOutput(dataTable, element);\n",
              "          const docLink = document.createElement('div');\n",
              "          docLink.innerHTML = docLinkHtml;\n",
              "          element.appendChild(docLink);\n",
              "        }\n",
              "      </script>\n",
              "    </div>\n",
              "  </div>\n",
              "  "
            ],
            "text/plain": [
              "                Time  ...  linear_acceleration_covariance_8\n",
              "0       1.645941e+09  ...                               0.0\n",
              "1       1.645941e+09  ...                               0.0\n",
              "2       1.645941e+09  ...                               0.0\n",
              "3       1.645941e+09  ...                               0.0\n",
              "4       1.645941e+09  ...                               0.0\n",
              "...              ...  ...                               ...\n",
              "719987  1.645959e+09  ...                               0.0\n",
              "719988  1.645959e+09  ...                               0.0\n",
              "719989  1.645959e+09  ...                               0.0\n",
              "719990  1.645959e+09  ...                               0.0\n",
              "719991  1.645959e+09  ...                               0.0\n",
              "\n",
              "[719992 rows x 42 columns]"
            ]
          },
          "metadata": {},
          "execution_count": 149
        }
      ]
    },
    {
      "cell_type": "markdown",
      "source": [
        "#5 hr IMU Data Analysis"
      ],
      "metadata": {
        "id": "F5eT-omB6Fb5"
      }
    },
    {
      "cell_type": "code",
      "source": [
        ""
      ],
      "metadata": {
        "id": "uieQztemp2_R"
      },
      "execution_count": null,
      "outputs": []
    },
    {
      "cell_type": "markdown",
      "source": [
        "Orientation"
      ],
      "metadata": {
        "id": "w3ATtfns6Fb5"
      }
    },
    {
      "cell_type": "code",
      "source": [
        "sequence = df_imu['header.seq']\n",
        "qx = df_imu['orientation.x']\n",
        "qy = df_imu['orientation.y']\n",
        "qz = df_imu['orientation.z']\n",
        "qw = df_imu['orientation.w']"
      ],
      "metadata": {
        "id": "YKoc5eWq6Fb5"
      },
      "execution_count": 150,
      "outputs": []
    },
    {
      "cell_type": "code",
      "source": [
        "qw_mean = np.mean(qw)\n",
        "qw_dev = np.std(qw)\n",
        "list_qw = np.ones((qw.shape[0],1))*qw_mean\n",
        "list_qw_std1 = np.ones((qw.shape[0],1))*qw_dev+list_qw\n",
        "list_qw_std2 = -np.ones((qw.shape[0],1))*qw_dev+list_qw"
      ],
      "metadata": {
        "id": "4gWmrU5Y6Fb6"
      },
      "execution_count": 151,
      "outputs": []
    },
    {
      "cell_type": "code",
      "source": [
        "plt.plot(qw)\n",
        "plt.plot(list_qw, label='Mean_qw')\n",
        "plt.plot(list_qw_std1, label='+Std_qw')\n",
        "plt.plot(list_qw_std2, label='-Std_qw')\n",
        "plt.xlabel('sequence')\n",
        "plt.ylabel('qw')\n",
        "plt.title('Quaternion scalar')\n",
        "plt.legend()"
      ],
      "metadata": {
        "colab": {
          "base_uri": "https://localhost:8080/",
          "height": 312
        },
        "outputId": "1076cb45-a5ab-4cf1-af59-dffab5087113",
        "id": "lSpvXJ_s6Fb6"
      },
      "execution_count": 152,
      "outputs": [
        {
          "output_type": "execute_result",
          "data": {
            "text/plain": [
              "<matplotlib.legend.Legend at 0x7f347f343d10>"
            ]
          },
          "metadata": {},
          "execution_count": 152
        },
        {
          "output_type": "display_data",
          "data": {
            "image/png": "[encoded data removed]",
            "text/plain": [
              "<Figure size 432x288 with 1 Axes>"
            ]
          },
          "metadata": {
            "needs_background": "light"
          }
        }
      ]
    },
    {
      "cell_type": "code",
      "source": [
        "qx_mean = np.mean(qx)\n",
        "qx_dev = np.std(qx)\n",
        "list_qx = np.ones((qx.shape[0],1))*qx_mean\n",
        "list_qx_std1 = np.ones((qx.shape[0],1))*qx_dev+list_qx\n",
        "list_qx_std2 = -np.ones((qx.shape[0],1))*qx_dev+list_qx"
      ],
      "metadata": {
        "id": "8-5EdHw_6Fb6"
      },
      "execution_count": 153,
      "outputs": []
    },
    {
      "cell_type": "code",
      "source": [
        "plt.plot(qx)\n",
        "plt.plot(list_qx, label='Mean_qx')\n",
        "plt.plot(list_qx_std1, label='+Std_qx')\n",
        "plt.plot(list_qx_std2, label='-Std_qx')\n",
        "plt.xlabel('sequence')\n",
        "plt.ylabel('qx')\n",
        "plt.title('Quaternion x component')\n",
        "plt.legend()"
      ],
      "metadata": {
        "colab": {
          "base_uri": "https://localhost:8080/",
          "height": 312
        },
        "outputId": "d0da604a-6dfe-49db-bc43-c137877b3c97",
        "id": "qVVPNbkR6Fb7"
      },
      "execution_count": 154,
      "outputs": [
        {
          "output_type": "execute_result",
          "data": {
            "text/plain": [
              "<matplotlib.legend.Legend at 0x7f344a649f10>"
            ]
          },
          "metadata": {},
          "execution_count": 154
        },
        {
          "output_type": "display_data",
          "data": {
            "image/png": "[encoded data removed]",
            "text/plain": [
              "<Figure size 432x288 with 1 Axes>"
            ]
          },
          "metadata": {
            "needs_background": "light"
          }
        }
      ]
    },
    {
      "cell_type": "code",
      "source": [
        "qy_mean = np.mean(qy)\n",
        "qy_dev = np.std(qy)\n",
        "list_qy = np.ones((qy.shape[0],1))*qy_mean\n",
        "list_qy_std1 = np.ones((qy.shape[0],1))*qy_dev+list_qy\n",
        "list_qy_std2 = -np.ones((qy.shape[0],1))*qy_dev+list_qy"
      ],
      "metadata": {
        "id": "CCgITyFi6Fb7"
      },
      "execution_count": 155,
      "outputs": []
    },
    {
      "cell_type": "code",
      "source": [
        "plt.plot(qy)\n",
        "plt.plot(list_qy, label='Mean_qy')\n",
        "plt.plot(list_qy_std1, label='+Std_qy')\n",
        "plt.plot(list_qy_std2, label='-Std_qy')\n",
        "plt.xlabel('sequence')\n",
        "plt.ylabel('qy')\n",
        "plt.title('Quaternion y component')\n",
        "plt.legend()"
      ],
      "metadata": {
        "colab": {
          "base_uri": "https://localhost:8080/",
          "height": 312
        },
        "outputId": "2a6c4628-b8cf-4f17-e738-65e8d5ad4b4b",
        "id": "ZYePU1gH6Fb7"
      },
      "execution_count": 156,
      "outputs": [
        {
          "output_type": "execute_result",
          "data": {
            "text/plain": [
              "<matplotlib.legend.Legend at 0x7f347dcfff50>"
            ]
          },
          "metadata": {},
          "execution_count": 156
        },
        {
          "output_type": "display_data",
          "data": {
            "image/png": "[encoded data removed]",
            "text/plain": [
              "<Figure size 432x288 with 1 Axes>"
            ]
          },
          "metadata": {
            "needs_background": "light"
          }
        }
      ]
    },
    {
      "cell_type": "code",
      "source": [
        "qz_mean = np.mean(qz)\n",
        "qz_dev = np.std(qz)\n",
        "list_qz = np.ones((qz.shape[0],1))*qz_mean\n",
        "list_qz_std1 = np.ones((qz.shape[0],1))*qz_dev+list_qz\n",
        "list_qz_std2 = -np.ones((qz.shape[0],1))*qz_dev+list_qz"
      ],
      "metadata": {
        "id": "LlDNlk9A6Fb7"
      },
      "execution_count": 157,
      "outputs": []
    },
    {
      "cell_type": "code",
      "source": [
        "plt.plot(qz)\n",
        "plt.plot(list_qz, label='Mean_qz')\n",
        "plt.plot(list_qz_std1, label='+Std_qz')\n",
        "plt.plot(list_qz_std2, label='-Std_qz')\n",
        "plt.xlabel('sequence')\n",
        "plt.ylabel('qz')\n",
        "plt.title('Quaternion z component')\n",
        "plt.legend()"
      ],
      "metadata": {
        "colab": {
          "base_uri": "https://localhost:8080/",
          "height": 312
        },
        "outputId": "1080bfa6-884d-476a-fe01-62b6d65a4eb6",
        "id": "yjtz8AC16Fb8"
      },
      "execution_count": 158,
      "outputs": [
        {
          "output_type": "execute_result",
          "data": {
            "text/plain": [
              "<matplotlib.legend.Legend at 0x7f3437556190>"
            ]
          },
          "metadata": {},
          "execution_count": 158
        },
        {
          "output_type": "display_data",
          "data": {
            "image/png": "[encoded data removed]",
            "text/plain": [
              "<Figure size 432x288 with 1 Axes>"
            ]
          },
          "metadata": {
            "needs_background": "light"
          }
        }
      ]
    },
    {
      "cell_type": "markdown",
      "source": [
        "Angular velocity "
      ],
      "metadata": {
        "id": "i_lAHxak6Fb8"
      }
    },
    {
      "cell_type": "code",
      "source": [
        "wx = df_imu['angular_velocity.x']\n",
        "wy = df_imu['angular_velocity.y']\n",
        "wz = df_imu['angular_velocity.z']"
      ],
      "metadata": {
        "id": "XyYp5Bbw6Fb8"
      },
      "execution_count": 159,
      "outputs": []
    },
    {
      "cell_type": "code",
      "source": [
        "wx_mean = np.mean(wx)\n",
        "wx_dev = np.std(wx)\n",
        "list_wx = np.ones((wx.shape[0],1))*wx_mean\n",
        "list_wx_std1 = np.ones((wx.shape[0],1))*wx_dev+list_wx\n",
        "list_wx_std2 = -np.ones((wx.shape[0],1))*wx_dev+list_wx"
      ],
      "metadata": {
        "id": "3aHoIX3U6Fb8"
      },
      "execution_count": 160,
      "outputs": []
    },
    {
      "cell_type": "code",
      "source": [
        "plt.plot(wx)\n",
        "plt.plot(list_wx, label='Mean_wx')\n",
        "plt.plot(list_wx_std1, label='+Std_wx')\n",
        "plt.plot(list_wx_std2, label='-Std_wx')\n",
        "plt.xlabel('sequence')\n",
        "plt.ylabel('wx')\n",
        "plt.title('Angular Velocity x component')\n",
        "plt.legend()"
      ],
      "metadata": {
        "colab": {
          "base_uri": "https://localhost:8080/",
          "height": 312
        },
        "outputId": "635255e2-1046-411b-f535-e49fd4e2ced6",
        "id": "eFmePFBn6Fb8"
      },
      "execution_count": 161,
      "outputs": [
        {
          "output_type": "execute_result",
          "data": {
            "text/plain": [
              "<matplotlib.legend.Legend at 0x7f344a621910>"
            ]
          },
          "metadata": {},
          "execution_count": 161
        },
        {
          "output_type": "display_data",
          "data": {
            "image/png": "[encoded data removed]",
            "text/plain": [
              "<Figure size 432x288 with 1 Axes>"
            ]
          },
          "metadata": {
            "needs_background": "light"
          }
        }
      ]
    },
    {
      "cell_type": "code",
      "source": [
        "wy_mean = np.mean(wy)\n",
        "wy_dev = np.std(wy)\n",
        "list_wy = np.ones((wy.shape[0],1))*wx_mean\n",
        "list_wy_std1 = np.ones((wy.shape[0],1))*wy_dev+list_wy\n",
        "list_wy_std2 = -np.ones((wy.shape[0],1))*wy_dev+list_wy"
      ],
      "metadata": {
        "id": "-PTgICOt6Fb9"
      },
      "execution_count": 162,
      "outputs": []
    },
    {
      "cell_type": "code",
      "source": [
        "plt.plot(wy)\n",
        "plt.plot(list_wy, label='Mean_wy')\n",
        "plt.plot(list_wy_std1, label='+Std_wy')\n",
        "plt.plot(list_wy_std2, label='-Std_wy')\n",
        "plt.xlabel('sequence')\n",
        "plt.ylabel('wy')\n",
        "plt.title('Angular Velocity y component')\n",
        "plt.legend()"
      ],
      "metadata": {
        "colab": {
          "base_uri": "https://localhost:8080/",
          "height": 384
        },
        "outputId": "d77ae817-d098-488d-e44c-21c136e91610",
        "id": "WT2vpX1y6Fb9"
      },
      "execution_count": 163,
      "outputs": [
        {
          "output_type": "execute_result",
          "data": {
            "text/plain": [
              "<matplotlib.legend.Legend at 0x7f3437675190>"
            ]
          },
          "metadata": {},
          "execution_count": 163
        },
        {
          "output_type": "stream",
          "name": "stderr",
          "text": [
            "/usr/local/lib/python3.7/dist-packages/google/colab/_event_manager.py:28: UserWarning: Creating legend with loc=\"best\" can be slow with large amounts of data.\n",
            "  func(*args, **kwargs)\n",
            "/usr/local/lib/python3.7/dist-packages/IPython/core/pylabtools.py:125: UserWarning: Creating legend with loc=\"best\" can be slow with large amounts of data.\n",
            "  fig.canvas.print_figure(bytes_io, **kw)\n"
          ]
        },
        {
          "output_type": "display_data",
          "data": {
            "image/png": "[encoded data removed]",
            "text/plain": [
              "<Figure size 432x288 with 1 Axes>"
            ]
          },
          "metadata": {
            "needs_background": "light"
          }
        }
      ]
    },
    {
      "cell_type": "code",
      "source": [
        "wz_mean = np.mean(wz)\n",
        "wz_dev = np.std(wz)\n",
        "list_wz = np.ones((wz.shape[0],1))*wz_mean\n",
        "list_wz_std1 = np.ones((wz.shape[0],1))*wz_dev+list_wz\n",
        "list_wz_std2 = -np.ones((wz.shape[0],1))*wz_dev+list_wz"
      ],
      "metadata": {
        "id": "aGY64VD_6Fb9"
      },
      "execution_count": 164,
      "outputs": []
    },
    {
      "cell_type": "code",
      "source": [
        "plt.plot(wz)\n",
        "plt.plot(list_wz, label='Mean_wz')\n",
        "plt.plot(list_wz_std1, label='+Std_wz')\n",
        "plt.plot(list_wz_std2, label='-Std_wz')\n",
        "plt.xlabel('sequence')\n",
        "plt.ylabel('wz')\n",
        "plt.title('Angular Velocity z component')\n",
        "plt.legend()"
      ],
      "metadata": {
        "colab": {
          "base_uri": "https://localhost:8080/",
          "height": 312
        },
        "outputId": "eabf3d61-2316-435a-d5f6-68898789479f",
        "id": "1Z8GB3ct6Fb9"
      },
      "execution_count": 165,
      "outputs": [
        {
          "output_type": "execute_result",
          "data": {
            "text/plain": [
              "<matplotlib.legend.Legend at 0x7f3437742790>"
            ]
          },
          "metadata": {},
          "execution_count": 165
        },
        {
          "output_type": "display_data",
          "data": {
            "image/png": "[encoded data removed]",
            "text/plain": [
              "<Figure size 432x288 with 1 Axes>"
            ]
          },
          "metadata": {
            "needs_background": "light"
          }
        }
      ]
    },
    {
      "cell_type": "markdown",
      "source": [
        "Linear Accleration "
      ],
      "metadata": {
        "id": "90HCcDFp6Fb-"
      }
    },
    {
      "cell_type": "code",
      "source": [
        "ax = df_imu['linear_acceleration.x']\n",
        "ay = df_imu['linear_acceleration.y']\n",
        "az = df_imu['linear_acceleration.z']"
      ],
      "metadata": {
        "id": "89WkY7sr6Fb-"
      },
      "execution_count": 166,
      "outputs": []
    },
    {
      "cell_type": "code",
      "source": [
        "ax_mean = np.mean(ax)\n",
        "ax_dev = np.std(ax)\n",
        "list_ax = np.ones((ax.shape[0],1))*ax_mean\n",
        "list_ax_std1 = np.ones((ax.shape[0],1))*ax_dev+list_ax\n",
        "list_ax_std2 = -np.ones((ax.shape[0],1))*ax_dev+list_ax"
      ],
      "metadata": {
        "id": "93RmKbkW6Fb-"
      },
      "execution_count": 167,
      "outputs": []
    },
    {
      "cell_type": "code",
      "source": [
        "plt.plot(ax)\n",
        "plt.plot(list_ax, label='Mean_ax')\n",
        "plt.plot(list_ax_std1, label='+Std_ax')\n",
        "plt.plot(list_ax_std2, label='-Std_ax')\n",
        "plt.xlabel('sequence')\n",
        "plt.ylabel('ax')\n",
        "plt.title('Linear Acceleration x component')\n",
        "plt.legend()"
      ],
      "metadata": {
        "colab": {
          "base_uri": "https://localhost:8080/",
          "height": 384
        },
        "outputId": "ce083aa4-ea04-446e-eb52-d6d0e8680a1d",
        "id": "2fvIrFHq6Fb-"
      },
      "execution_count": 168,
      "outputs": [
        {
          "output_type": "execute_result",
          "data": {
            "text/plain": [
              "<matplotlib.legend.Legend at 0x7f347b50c590>"
            ]
          },
          "metadata": {},
          "execution_count": 168
        },
        {
          "output_type": "stream",
          "name": "stderr",
          "text": [
            "/usr/local/lib/python3.7/dist-packages/google/colab/_event_manager.py:28: UserWarning: Creating legend with loc=\"best\" can be slow with large amounts of data.\n",
            "  func(*args, **kwargs)\n",
            "/usr/local/lib/python3.7/dist-packages/IPython/core/pylabtools.py:125: UserWarning: Creating legend with loc=\"best\" can be slow with large amounts of data.\n",
            "  fig.canvas.print_figure(bytes_io, **kw)\n"
          ]
        },
        {
          "output_type": "display_data",
          "data": {
            "image/png": "[encoded data removed]",
            "text/plain": [
              "<Figure size 432x288 with 1 Axes>"
            ]
          },
          "metadata": {
            "needs_background": "light"
          }
        }
      ]
    },
    {
      "cell_type": "code",
      "source": [
        "ay_mean = np.mean(ay)\n",
        "ay_dev = np.std(ay)\n",
        "list_ay = np.ones((ay.shape[0],1))*ay_mean\n",
        "list_ay_std1 = np.ones((ay.shape[0],1))*ay_dev+list_ay\n",
        "list_ay_std2 = -np.ones((ay.shape[0],1))*ay_dev+list_ay"
      ],
      "metadata": {
        "id": "VrsTSb7K6Fb-"
      },
      "execution_count": 169,
      "outputs": []
    },
    {
      "cell_type": "code",
      "source": [
        "plt.plot(ay)\n",
        "plt.plot(list_ay, label='Mean_ay')\n",
        "plt.plot(list_ay_std1, label='+Std_ay')\n",
        "plt.plot(list_ay_std2, label='-Std_ay')\n",
        "plt.xlabel('sequence')\n",
        "plt.ylabel('ay')\n",
        "plt.title('Linear Acceleration y component')\n",
        "plt.legend()"
      ],
      "metadata": {
        "colab": {
          "base_uri": "https://localhost:8080/",
          "height": 312
        },
        "outputId": "344c1fb6-7a8d-475b-86ca-de2058810f84",
        "id": "gNLXEX316Fb-"
      },
      "execution_count": 170,
      "outputs": [
        {
          "output_type": "execute_result",
          "data": {
            "text/plain": [
              "<matplotlib.legend.Legend at 0x7f342e0ff4d0>"
            ]
          },
          "metadata": {},
          "execution_count": 170
        },
        {
          "output_type": "display_data",
          "data": {
            "image/png": "[encoded data removed]",
            "text/plain": [
              "<Figure size 432x288 with 1 Axes>"
            ]
          },
          "metadata": {
            "needs_background": "light"
          }
        }
      ]
    },
    {
      "cell_type": "code",
      "source": [
        "az_mean = np.mean(az)\n",
        "az_dev = np.std(az)\n",
        "list_az = np.ones((az.shape[0],1))*az_mean\n",
        "list_az_std1 = np.ones((az.shape[0],1))*az_dev+list_az\n",
        "list_az_std2 = -np.ones((az.shape[0],1))*az_dev+list_az"
      ],
      "metadata": {
        "id": "o7FGBPVa6Fb-"
      },
      "execution_count": 171,
      "outputs": []
    },
    {
      "cell_type": "code",
      "source": [
        "plt.plot(az)\n",
        "plt.plot(list_az, label='Mean_az')\n",
        "plt.plot(list_az_std1, label='+Std_az')\n",
        "plt.plot(list_az_std2, label='-Std_az')\n",
        "plt.xlabel('sequence')\n",
        "plt.ylabel('az')\n",
        "plt.title('Linear Acceleration z component')\n",
        "plt.legend()"
      ],
      "metadata": {
        "colab": {
          "base_uri": "https://localhost:8080/",
          "height": 384
        },
        "outputId": "1c4c449f-b601-4617-8646-8bacdeb743c7",
        "id": "agE2CgOt6Fb-"
      },
      "execution_count": 172,
      "outputs": [
        {
          "output_type": "execute_result",
          "data": {
            "text/plain": [
              "<matplotlib.legend.Legend at 0x7f3449f10890>"
            ]
          },
          "metadata": {},
          "execution_count": 172
        },
        {
          "output_type": "stream",
          "name": "stderr",
          "text": [
            "/usr/local/lib/python3.7/dist-packages/google/colab/_event_manager.py:28: UserWarning: Creating legend with loc=\"best\" can be slow with large amounts of data.\n",
            "  func(*args, **kwargs)\n",
            "/usr/local/lib/python3.7/dist-packages/IPython/core/pylabtools.py:125: UserWarning: Creating legend with loc=\"best\" can be slow with large amounts of data.\n",
            "  fig.canvas.print_figure(bytes_io, **kw)\n"
          ]
        },
        {
          "output_type": "display_data",
          "data": {
            "image/png": "[encoded data removed]",
            "text/plain": [
              "<Figure size 432x288 with 1 Axes>"
            ]
          },
          "metadata": {
            "needs_background": "light"
          }
        }
      ]
    },
    {
      "cell_type": "markdown",
      "source": [
        "Magnetometer"
      ],
      "metadata": {
        "id": "VmbKsmHF6Fb-"
      }
    },
    {
      "cell_type": "code",
      "source": [
        "mx = df_mag['magnetic_field.x']*10000\n",
        "my = df_mag['magnetic_field.y']*10000\n",
        "mz = df_mag['magnetic_field.z']*10000"
      ],
      "metadata": {
        "id": "mcs3f3jv6Fb-"
      },
      "execution_count": 173,
      "outputs": []
    },
    {
      "cell_type": "code",
      "source": [
        "mx_mean = np.mean(mx)\n",
        "mx_dev = np.std(mx)\n",
        "list_mx = np.ones((mx.shape[0],1))*mx_mean\n",
        "list_mx_std1 = np.ones((mx.shape[0],1))*mx_dev+list_mx\n",
        "list_mx_std2 = -np.ones((mx.shape[0],1))*mx_dev+list_mx"
      ],
      "metadata": {
        "id": "3liJYnX76Fb-"
      },
      "execution_count": 174,
      "outputs": []
    },
    {
      "cell_type": "code",
      "source": [
        "plt.plot(mx)\n",
        "plt.plot(list_mx, label='Mean_mx')\n",
        "plt.plot(list_mx_std1, label='+Std_mx')\n",
        "plt.plot(list_mx_std2, label='-Std_mx')\n",
        "plt.xlabel('sequence')\n",
        "plt.ylabel('mx')\n",
        "plt.title('Magnetic Field x component')\n",
        "plt.legend()"
      ],
      "metadata": {
        "colab": {
          "base_uri": "https://localhost:8080/",
          "height": 384
        },
        "outputId": "35407c98-b64f-442a-ed99-a4f8913c507e",
        "id": "FCnJ1vyA6Fb-"
      },
      "execution_count": 175,
      "outputs": [
        {
          "output_type": "execute_result",
          "data": {
            "text/plain": [
              "<matplotlib.legend.Legend at 0x7f3446a11490>"
            ]
          },
          "metadata": {},
          "execution_count": 175
        },
        {
          "output_type": "stream",
          "name": "stderr",
          "text": [
            "/usr/local/lib/python3.7/dist-packages/google/colab/_event_manager.py:28: UserWarning: Creating legend with loc=\"best\" can be slow with large amounts of data.\n",
            "  func(*args, **kwargs)\n",
            "/usr/local/lib/python3.7/dist-packages/IPython/core/pylabtools.py:125: UserWarning: Creating legend with loc=\"best\" can be slow with large amounts of data.\n",
            "  fig.canvas.print_figure(bytes_io, **kw)\n"
          ]
        },
        {
          "output_type": "display_data",
          "data": {
            "image/png": "[encoded data removed]",
            "text/plain": [
              "<Figure size 432x288 with 1 Axes>"
            ]
          },
          "metadata": {
            "needs_background": "light"
          }
        }
      ]
    },
    {
      "cell_type": "code",
      "source": [
        "my_mean = np.mean(my)\n",
        "my_dev = np.std(my)\n",
        "list_my = np.ones((my.shape[0],1))*my_mean\n",
        "list_my_std1 = np.ones((my.shape[0],1))*my_dev+list_my\n",
        "list_my_std2 = -np.ones((my.shape[0],1))*my_dev+list_my"
      ],
      "metadata": {
        "id": "tMSetlx-6Fb-"
      },
      "execution_count": 176,
      "outputs": []
    },
    {
      "cell_type": "code",
      "source": [
        "plt.plot(my)\n",
        "plt.plot(list_my, label='Mean_my')\n",
        "plt.plot(list_my_std1, label='+Std_my')\n",
        "plt.plot(list_my_std2, label='-Std_my')\n",
        "plt.xlabel('sequence')\n",
        "plt.ylabel('my')\n",
        "plt.title('Magnetic Field y component')\n",
        "plt.legend()"
      ],
      "metadata": {
        "colab": {
          "base_uri": "https://localhost:8080/",
          "height": 312
        },
        "outputId": "7aade89f-258a-491e-cbb4-08f7dc56ac05",
        "id": "VXPoYuDy6Fb-"
      },
      "execution_count": 177,
      "outputs": [
        {
          "output_type": "execute_result",
          "data": {
            "text/plain": [
              "<matplotlib.legend.Legend at 0x7f3467b9c4d0>"
            ]
          },
          "metadata": {},
          "execution_count": 177
        },
        {
          "output_type": "display_data",
          "data": {
            "image/png": "[encoded data removed]",
            "text/plain": [
              "<Figure size 432x288 with 1 Axes>"
            ]
          },
          "metadata": {
            "needs_background": "light"
          }
        }
      ]
    },
    {
      "cell_type": "code",
      "source": [
        "mz_mean = np.mean(mz)\n",
        "mz_dev = np.std(mz)\n",
        "list_mz = np.ones((mz.shape[0],1))*mz_mean\n",
        "list_mz_std1 = np.ones((mz.shape[0],1))*mz_dev+list_mz\n",
        "list_mz_std2 = -np.ones((mz.shape[0],1))*mz_dev+list_mz"
      ],
      "metadata": {
        "id": "eaIz6het6Fb-"
      },
      "execution_count": 178,
      "outputs": []
    },
    {
      "cell_type": "code",
      "source": [
        "plt.plot(mz)\n",
        "plt.plot(list_mz, label='Mean_mz')\n",
        "plt.plot(list_mz_std1, label='+Std_mz')\n",
        "plt.plot(list_mz_std2, label='-Std_mz')\n",
        "plt.xlabel('sequence')\n",
        "plt.ylabel('mz')\n",
        "plt.title('Magnetic Field z component')\n",
        "plt.legend()"
      ],
      "metadata": {
        "colab": {
          "base_uri": "https://localhost:8080/",
          "height": 312
        },
        "outputId": "f132a943-13ae-4b40-e979-65dbaaa12863",
        "id": "yYdoswOw6Fb-"
      },
      "execution_count": 179,
      "outputs": [
        {
          "output_type": "execute_result",
          "data": {
            "text/plain": [
              "<matplotlib.legend.Legend at 0x7f3446a1a2d0>"
            ]
          },
          "metadata": {},
          "execution_count": 179
        },
        {
          "output_type": "display_data",
          "data": {
            "image/png": "[encoded data removed]",
            "text/plain": [
              "<Figure size 432x288 with 1 Axes>"
            ]
          },
          "metadata": {
            "needs_background": "light"
          }
        }
      ]
    }
  ]
}